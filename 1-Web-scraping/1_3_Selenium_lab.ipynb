{
  "cells": [
    {
      "cell_type": "markdown",
      "source": [
        "## Gabriela Marín Martín - Afina Nurova - Mónica de Álvaro Mena - Daniel Kwapien\n",
        "## Group 97\n"
      ],
      "metadata": {
        "id": "t2ne1w2pzdWf"
      }
    },
    {
      "cell_type": "markdown",
      "metadata": {
        "id": "6n0z8mcBUFWY"
      },
      "source": [
        "<img src=\"https://www.uc3m.es/ss/Satellite?blobcol=urldata&blobkey=id&blobtable=MungoBlobs&blobwhere=1371573952659\">\n",
        "\n",
        "---\n",
        "\n",
        "# WEB ANALYTICS COURSE 4 - SEMESTER 2\n",
        "# BACHELOR IN DATA SCIENCE AND ENGINEERING\n",
        "\n",
        "# LAB 1.3 WEB SCRAPING WITH SELENIUM\n",
        "\n",
        "---"
      ]
    },
    {
      "cell_type": "markdown",
      "metadata": {
        "id": "vS1O4BW82LV6"
      },
      "source": [
        "# 0. Lab Preparation\n",
        "\n",
        "1.  Study and have clear the concepts explained in the theoretical class and the introductory lab.\n",
        "\n",
        "2.   Gain experience with the use of the [Selenium](https://https://www.selenium.dev/). The exercises of this lab will be mainly based on the utilization of functions offered by this library.\n",
        "\n",
        "3. It is assumed students have experience in using Python notebooks. Either a local installation (e.g., local python installation + Jupyter) or a cloud-based solution (e.g., Google Colab). *We recommend the second option*."
      ]
    },
    {
      "cell_type": "markdown",
      "metadata": {
        "id": "nwlGXDUG2db2"
      },
      "source": [
        "# 1. Lab Introduction"
      ]
    },
    {
      "cell_type": "markdown",
      "metadata": {
        "id": "ypNv8Fpi2YS7"
      },
      "source": [
        "* In this lab, we will implement a web scraper using [Selenium](https://https://www.selenium.dev/). One of the tools explained in the theoretical class.\n",
        "\n",
        "* The lab will be done in groups of 4 people.\n",
        "\n",
        "* The lab defines a set of milestones the students must complete. Upon completing all the milestones, students should call the professor, who will check the correctness of the solution (*If the professor is busy, do not wait for them, move to the next lab*).\n",
        "\n",
        "* **The final mark will be computed as a function of the number of milestones successfully completed.**\n",
        "\n",
        "* **Each group should also share their lab notebook with the professor upon the finalization of the lab.**\n",
        "\n",
        "* In this lab we will use the [Selenium](https://https://www.selenium.dev/) library for the creation of a web scraper, to extract information from the web. As indicated in the *Lab Preparation* section above, it is expected that students have gained experience in the use of the library before starting the first session of the lab.\n",
        "\n",
        "- It is recommended to use [Google Colab](https://colab.research.google.com/) to produce the Python notebook with the solution of the lab. Of course, if any student prefers using its local programming environment (e.g., jupyter) and python installation, they are welcome to do so."
      ]
    },
    {
      "cell_type": "code",
      "source": [
        "!apt update\n",
        "!apt install chromium-chromedriver\n",
        "!pip install selenium"
      ],
      "metadata": {
        "id": "9ANPHSghaX1f",
        "colab": {
          "base_uri": "https://localhost:8080/"
        },
        "outputId": "848075c9-72b9-4b37-f058-dc0fb8b07a4b"
      },
      "execution_count": 2,
      "outputs": [
        {
          "output_type": "stream",
          "name": "stdout",
          "text": [
            "\u001b[33m\r0% [Working]\u001b[0m\r            \rHit:1 http://archive.ubuntu.com/ubuntu jammy InRelease\n",
            "Get:2 http://archive.ubuntu.com/ubuntu jammy-updates InRelease [128 kB]\n",
            "Hit:3 http://archive.ubuntu.com/ubuntu jammy-backports InRelease\n",
            "Hit:4 https://developer.download.nvidia.com/compute/cuda/repos/ubuntu2204/x86_64  InRelease\n",
            "Hit:5 https://ppa.launchpadcontent.net/deadsnakes/ppa/ubuntu jammy InRelease\n",
            "Get:6 http://security.ubuntu.com/ubuntu jammy-security InRelease [129 kB]\n",
            "Hit:7 https://ppa.launchpadcontent.net/graphics-drivers/ppa/ubuntu jammy InRelease\n",
            "Hit:8 https://ppa.launchpadcontent.net/ubuntugis/ppa/ubuntu jammy InRelease\n",
            "Get:9 https://cloud.r-project.org/bin/linux/ubuntu jammy-cran40/ InRelease [3,626 B]\n",
            "Ign:10 https://r2u.stat.illinois.edu/ubuntu jammy InRelease\n",
            "Get:11 http://archive.ubuntu.com/ubuntu jammy-updates/main amd64 Packages [2,590 kB]\n",
            "Get:12 https://r2u.stat.illinois.edu/ubuntu jammy Release [5,713 B]\n",
            "Get:13 https://r2u.stat.illinois.edu/ubuntu jammy Release.gpg [793 B]\n",
            "Get:14 http://archive.ubuntu.com/ubuntu jammy-updates/restricted amd64 Packages [3,186 kB]\n",
            "Get:15 http://archive.ubuntu.com/ubuntu jammy-updates/universe amd64 Packages [1,440 kB]\n",
            "Get:16 http://security.ubuntu.com/ubuntu jammy-security/universe amd64 Packages [1,153 kB]\n",
            "Get:17 https://r2u.stat.illinois.edu/ubuntu jammy/main amd64 Packages [2,582 kB]\n",
            "Get:18 http://security.ubuntu.com/ubuntu jammy-security/main amd64 Packages [2,308 kB]\n",
            "Get:19 https://r2u.stat.illinois.edu/ubuntu jammy/main all Packages [8,336 kB]\n",
            "Fetched 21.9 MB in 4s (5,805 kB/s)\n",
            "Reading package lists... Done\n",
            "Building dependency tree... Done\n",
            "Reading state information... Done\n",
            "55 packages can be upgraded. Run 'apt list --upgradable' to see them.\n",
            "\u001b[1;33mW: \u001b[0mSkipping acquire of configured file 'main/source/Sources' as repository 'https://r2u.stat.illinois.edu/ubuntu jammy InRelease' does not seem to provide it (sources.list entry misspelt?)\u001b[0m\n",
            "Reading package lists... Done\n",
            "Building dependency tree... Done\n",
            "Reading state information... Done\n",
            "The following additional packages will be installed:\n",
            "  apparmor chromium-browser libfuse3-3 liblzo2-2 libudev1 snapd squashfs-tools systemd-hwe-hwdb\n",
            "  udev\n",
            "Suggested packages:\n",
            "  apparmor-profiles-extra apparmor-utils fuse3 zenity | kdialog\n",
            "The following NEW packages will be installed:\n",
            "  apparmor chromium-browser chromium-chromedriver libfuse3-3 liblzo2-2 snapd squashfs-tools\n",
            "  systemd-hwe-hwdb udev\n",
            "The following packages will be upgraded:\n",
            "  libudev1\n",
            "1 upgraded, 9 newly installed, 0 to remove and 54 not upgraded.\n",
            "Need to get 28.5 MB of archives.\n",
            "After this operation, 118 MB of additional disk space will be used.\n",
            "Get:1 http://archive.ubuntu.com/ubuntu jammy-updates/main amd64 apparmor amd64 3.0.4-2ubuntu2.4 [598 kB]\n",
            "Get:2 http://archive.ubuntu.com/ubuntu jammy/main amd64 liblzo2-2 amd64 2.10-2build3 [53.7 kB]\n",
            "Get:3 http://archive.ubuntu.com/ubuntu jammy/main amd64 squashfs-tools amd64 1:4.5-3build1 [159 kB]\n",
            "Get:4 http://archive.ubuntu.com/ubuntu jammy-updates/main amd64 libudev1 amd64 249.11-0ubuntu3.12 [78.2 kB]\n",
            "Get:5 http://archive.ubuntu.com/ubuntu jammy-updates/main amd64 udev amd64 249.11-0ubuntu3.12 [1,557 kB]\n",
            "Get:6 http://archive.ubuntu.com/ubuntu jammy/main amd64 libfuse3-3 amd64 3.10.5-1build1 [81.2 kB]\n",
            "Get:7 http://archive.ubuntu.com/ubuntu jammy-updates/main amd64 snapd amd64 2.63+22.04ubuntu0.1 [25.9 MB]\n",
            "Get:8 http://archive.ubuntu.com/ubuntu jammy-updates/universe amd64 chromium-browser amd64 1:85.0.4183.83-0ubuntu2.22.04.1 [49.2 kB]\n",
            "Get:9 http://archive.ubuntu.com/ubuntu jammy-updates/universe amd64 chromium-chromedriver amd64 1:85.0.4183.83-0ubuntu2.22.04.1 [2,308 B]\n",
            "Get:10 http://archive.ubuntu.com/ubuntu jammy-updates/main amd64 systemd-hwe-hwdb all 249.11.5 [3,228 B]\n",
            "Fetched 28.5 MB in 1s (56.9 MB/s)\n",
            "Preconfiguring packages ...\n",
            "Selecting previously unselected package apparmor.\n",
            "(Reading database ... 123599 files and directories currently installed.)\n",
            "Preparing to unpack .../apparmor_3.0.4-2ubuntu2.4_amd64.deb ...\n",
            "Unpacking apparmor (3.0.4-2ubuntu2.4) ...\n",
            "Selecting previously unselected package liblzo2-2:amd64.\n",
            "Preparing to unpack .../liblzo2-2_2.10-2build3_amd64.deb ...\n",
            "Unpacking liblzo2-2:amd64 (2.10-2build3) ...\n",
            "Selecting previously unselected package squashfs-tools.\n",
            "Preparing to unpack .../squashfs-tools_1%3a4.5-3build1_amd64.deb ...\n",
            "Unpacking squashfs-tools (1:4.5-3build1) ...\n",
            "Preparing to unpack .../libudev1_249.11-0ubuntu3.12_amd64.deb ...\n",
            "Unpacking libudev1:amd64 (249.11-0ubuntu3.12) over (249.11-0ubuntu3.10) ...\n",
            "Setting up libudev1:amd64 (249.11-0ubuntu3.12) ...\n",
            "Selecting previously unselected package udev.\n",
            "(Reading database ... 123807 files and directories currently installed.)\n",
            "Preparing to unpack .../udev_249.11-0ubuntu3.12_amd64.deb ...\n",
            "Unpacking udev (249.11-0ubuntu3.12) ...\n",
            "Selecting previously unselected package libfuse3-3:amd64.\n",
            "Preparing to unpack .../libfuse3-3_3.10.5-1build1_amd64.deb ...\n",
            "Unpacking libfuse3-3:amd64 (3.10.5-1build1) ...\n",
            "Selecting previously unselected package snapd.\n",
            "Preparing to unpack .../snapd_2.63+22.04ubuntu0.1_amd64.deb ...\n",
            "Unpacking snapd (2.63+22.04ubuntu0.1) ...\n",
            "Setting up apparmor (3.0.4-2ubuntu2.4) ...\n",
            "Created symlink /etc/systemd/system/sysinit.target.wants/apparmor.service → /lib/systemd/system/apparmor.service.\n",
            "Setting up liblzo2-2:amd64 (2.10-2build3) ...\n",
            "Setting up squashfs-tools (1:4.5-3build1) ...\n",
            "Setting up udev (249.11-0ubuntu3.12) ...\n",
            "invoke-rc.d: could not determine current runlevel\n",
            "invoke-rc.d: policy-rc.d denied execution of start.\n",
            "Setting up libfuse3-3:amd64 (3.10.5-1build1) ...\n",
            "Setting up snapd (2.63+22.04ubuntu0.1) ...\n",
            "Created symlink /etc/systemd/system/multi-user.target.wants/snapd.apparmor.service → /lib/systemd/system/snapd.apparmor.service.\n",
            "Created symlink /etc/systemd/system/multi-user.target.wants/snapd.autoimport.service → /lib/systemd/system/snapd.autoimport.service.\n",
            "Created symlink /etc/systemd/system/multi-user.target.wants/snapd.core-fixup.service → /lib/systemd/system/snapd.core-fixup.service.\n",
            "Created symlink /etc/systemd/system/multi-user.target.wants/snapd.recovery-chooser-trigger.service → /lib/systemd/system/snapd.recovery-chooser-trigger.service.\n",
            "Created symlink /etc/systemd/system/multi-user.target.wants/snapd.seeded.service → /lib/systemd/system/snapd.seeded.service.\n",
            "Created symlink /etc/systemd/system/cloud-final.service.wants/snapd.seeded.service → /lib/systemd/system/snapd.seeded.service.\n",
            "Unit /lib/systemd/system/snapd.seeded.service is added as a dependency to a non-existent unit cloud-final.service.\n",
            "Created symlink /etc/systemd/system/multi-user.target.wants/snapd.service → /lib/systemd/system/snapd.service.\n",
            "Created symlink /etc/systemd/system/timers.target.wants/snapd.snap-repair.timer → /lib/systemd/system/snapd.snap-repair.timer.\n",
            "Created symlink /etc/systemd/system/sockets.target.wants/snapd.socket → /lib/systemd/system/snapd.socket.\n",
            "Created symlink /etc/systemd/system/final.target.wants/snapd.system-shutdown.service → /lib/systemd/system/snapd.system-shutdown.service.\n",
            "Selecting previously unselected package chromium-browser.\n",
            "(Reading database ... 124037 files and directories currently installed.)\n",
            "Preparing to unpack .../chromium-browser_1%3a85.0.4183.83-0ubuntu2.22.04.1_amd64.deb ...\n",
            "=> Installing the chromium snap\n",
            "==> Checking connectivity with the snap store\n",
            "===> System doesn't have a working snapd, skipping\n",
            "Unpacking chromium-browser (1:85.0.4183.83-0ubuntu2.22.04.1) ...\n",
            "Selecting previously unselected package chromium-chromedriver.\n",
            "Preparing to unpack .../chromium-chromedriver_1%3a85.0.4183.83-0ubuntu2.22.04.1_amd64.deb ...\n",
            "Unpacking chromium-chromedriver (1:85.0.4183.83-0ubuntu2.22.04.1) ...\n",
            "Selecting previously unselected package systemd-hwe-hwdb.\n",
            "Preparing to unpack .../systemd-hwe-hwdb_249.11.5_all.deb ...\n",
            "Unpacking systemd-hwe-hwdb (249.11.5) ...\n",
            "Setting up systemd-hwe-hwdb (249.11.5) ...\n",
            "Setting up chromium-browser (1:85.0.4183.83-0ubuntu2.22.04.1) ...\n",
            "update-alternatives: using /usr/bin/chromium-browser to provide /usr/bin/x-www-browser (x-www-browser) in auto mode\n",
            "update-alternatives: using /usr/bin/chromium-browser to provide /usr/bin/gnome-www-browser (gnome-www-browser) in auto mode\n",
            "Setting up chromium-chromedriver (1:85.0.4183.83-0ubuntu2.22.04.1) ...\n",
            "Processing triggers for udev (249.11-0ubuntu3.12) ...\n",
            "Processing triggers for hicolor-icon-theme (0.17-2) ...\n",
            "Processing triggers for libc-bin (2.35-0ubuntu3.4) ...\n",
            "/sbin/ldconfig.real: /usr/local/lib/libur_loader.so.0 is not a symbolic link\n",
            "\n",
            "/sbin/ldconfig.real: /usr/local/lib/libtbbbind_2_0.so.3 is not a symbolic link\n",
            "\n",
            "/sbin/ldconfig.real: /usr/local/lib/libtbbbind.so.3 is not a symbolic link\n",
            "\n",
            "/sbin/ldconfig.real: /usr/local/lib/libtbbbind_2_5.so.3 is not a symbolic link\n",
            "\n",
            "/sbin/ldconfig.real: /usr/local/lib/libtbbmalloc_proxy.so.2 is not a symbolic link\n",
            "\n",
            "/sbin/ldconfig.real: /usr/local/lib/libtbbmalloc.so.2 is not a symbolic link\n",
            "\n",
            "/sbin/ldconfig.real: /usr/local/lib/libur_adapter_opencl.so.0 is not a symbolic link\n",
            "\n",
            "/sbin/ldconfig.real: /usr/local/lib/libtbb.so.12 is not a symbolic link\n",
            "\n",
            "/sbin/ldconfig.real: /usr/local/lib/libur_adapter_level_zero.so.0 is not a symbolic link\n",
            "\n",
            "Processing triggers for man-db (2.10.2-1) ...\n",
            "Processing triggers for dbus (1.12.20-2ubuntu4.1) ...\n",
            "Collecting selenium\n",
            "  Downloading selenium-4.25.0-py3-none-any.whl.metadata (7.1 kB)\n",
            "Requirement already satisfied: urllib3<3,>=1.26 in /usr/local/lib/python3.10/dist-packages (from urllib3[socks]<3,>=1.26->selenium) (2.0.7)\n",
            "Collecting trio~=0.17 (from selenium)\n",
            "  Downloading trio-0.26.2-py3-none-any.whl.metadata (8.6 kB)\n",
            "Collecting trio-websocket~=0.9 (from selenium)\n",
            "  Downloading trio_websocket-0.11.1-py3-none-any.whl.metadata (4.7 kB)\n",
            "Requirement already satisfied: certifi>=2021.10.8 in /usr/local/lib/python3.10/dist-packages (from selenium) (2024.8.30)\n",
            "Requirement already satisfied: typing_extensions~=4.9 in /usr/local/lib/python3.10/dist-packages (from selenium) (4.12.2)\n",
            "Requirement already satisfied: websocket-client~=1.8 in /usr/local/lib/python3.10/dist-packages (from selenium) (1.8.0)\n",
            "Requirement already satisfied: attrs>=23.2.0 in /usr/local/lib/python3.10/dist-packages (from trio~=0.17->selenium) (24.2.0)\n",
            "Requirement already satisfied: sortedcontainers in /usr/local/lib/python3.10/dist-packages (from trio~=0.17->selenium) (2.4.0)\n",
            "Requirement already satisfied: idna in /usr/local/lib/python3.10/dist-packages (from trio~=0.17->selenium) (3.10)\n",
            "Collecting outcome (from trio~=0.17->selenium)\n",
            "  Downloading outcome-1.3.0.post0-py2.py3-none-any.whl.metadata (2.6 kB)\n",
            "Requirement already satisfied: sniffio>=1.3.0 in /usr/local/lib/python3.10/dist-packages (from trio~=0.17->selenium) (1.3.1)\n",
            "Requirement already satisfied: exceptiongroup in /usr/local/lib/python3.10/dist-packages (from trio~=0.17->selenium) (1.2.2)\n",
            "Collecting wsproto>=0.14 (from trio-websocket~=0.9->selenium)\n",
            "  Downloading wsproto-1.2.0-py3-none-any.whl.metadata (5.6 kB)\n",
            "Requirement already satisfied: pysocks!=1.5.7,<2.0,>=1.5.6 in /usr/local/lib/python3.10/dist-packages (from urllib3[socks]<3,>=1.26->selenium) (1.7.1)\n",
            "Collecting h11<1,>=0.9.0 (from wsproto>=0.14->trio-websocket~=0.9->selenium)\n",
            "  Downloading h11-0.14.0-py3-none-any.whl.metadata (8.2 kB)\n",
            "Downloading selenium-4.25.0-py3-none-any.whl (9.7 MB)\n",
            "\u001b[2K   \u001b[90m━━━━━━━━━━━━━━━━━━━━━━━━━━━━━━━━━━━━━━━━\u001b[0m \u001b[32m9.7/9.7 MB\u001b[0m \u001b[31m57.5 MB/s\u001b[0m eta \u001b[36m0:00:00\u001b[0m\n",
            "\u001b[?25hDownloading trio-0.26.2-py3-none-any.whl (475 kB)\n",
            "\u001b[2K   \u001b[90m━━━━━━━━━━━━━━━━━━━━━━━━━━━━━━━━━━━━━━━━\u001b[0m \u001b[32m476.0/476.0 kB\u001b[0m \u001b[31m21.8 MB/s\u001b[0m eta \u001b[36m0:00:00\u001b[0m\n",
            "\u001b[?25hDownloading trio_websocket-0.11.1-py3-none-any.whl (17 kB)\n",
            "Downloading wsproto-1.2.0-py3-none-any.whl (24 kB)\n",
            "Downloading outcome-1.3.0.post0-py2.py3-none-any.whl (10 kB)\n",
            "Downloading h11-0.14.0-py3-none-any.whl (58 kB)\n",
            "\u001b[2K   \u001b[90m━━━━━━━━━━━━━━━━━━━━━━━━━━━━━━━━━━━━━━━━\u001b[0m \u001b[32m58.3/58.3 kB\u001b[0m \u001b[31m3.4 MB/s\u001b[0m eta \u001b[36m0:00:00\u001b[0m\n",
            "\u001b[?25hInstalling collected packages: outcome, h11, wsproto, trio, trio-websocket, selenium\n",
            "Successfully installed h11-0.14.0 outcome-1.3.0.post0 selenium-4.25.0 trio-0.26.2 trio-websocket-0.11.1 wsproto-1.2.0\n"
          ]
        }
      ]
    },
    {
      "cell_type": "code",
      "execution_count": 3,
      "metadata": {
        "id": "3teIPraMwf4t"
      },
      "outputs": [],
      "source": [
        "from selenium import *"
      ]
    },
    {
      "cell_type": "markdown",
      "metadata": {
        "id": "h6Apdrzn2s18"
      },
      "source": [
        "# MILESTONE 1\n",
        "\n",
        "a) Access to the website [BACHELOR IN DATA SCIENCE AND ENGINEERING\n",
        "](https://www.uc3m.es/bachelor-degree/data-science)\n",
        "\n",
        "b) Find the element tag with `id=\"program\"` and print the result\n",
        "\n",
        "c) Find the table inside PROGRAM for Course 1 - Semester 1 and print the result\n"
      ]
    },
    {
      "cell_type": "code",
      "execution_count": 4,
      "metadata": {
        "id": "KoiDgC1yM-gF"
      },
      "outputs": [],
      "source": [
        "# a) access the website\n",
        "from selenium import webdriver\n",
        "options = webdriver.ChromeOptions()\n",
        "#options.add_argument(\"--disable-search-engine-choice-screen\") # run on local\n",
        "options.add_argument(\"--headless\") # necessary for colab, with web analytics link wont click directly on span\n",
        "options.add_argument('--no-sandbox')\n",
        "options.add_argument('--disable-dev-shm-usage')\n",
        "driver = webdriver.Chrome(options=options)\n",
        "\n",
        "driver.get(\"https://www.uc3m.es/bachelor-degree/data-science\")\n",
        "\n",
        "# if we use headless and we want the display then use this library:https://pypi.org/project/PyVirtualDisplay/\n"
      ]
    },
    {
      "cell_type": "code",
      "execution_count": 5,
      "metadata": {
        "id": "YmJMtH2vXYog",
        "outputId": "f8917beb-8c50-46f0-b6de-c0befae63aa1",
        "colab": {
          "base_uri": "https://localhost:8080/"
        }
      },
      "outputs": [
        {
          "output_type": "stream",
          "name": "stdout",
          "text": [
            "PROGRAM\n"
          ]
        }
      ],
      "source": [
        "# b) Find the element with id=\"program\"\n",
        "\n",
        "from selenium.webdriver.common.by import By\n",
        "\n",
        "program_element = driver.find_element(By.ID, \"program\")\n",
        "\n",
        "print(program_element.text)\n"
      ]
    },
    {
      "cell_type": "code",
      "execution_count": 6,
      "metadata": {
        "id": "VrRC4vd7RfAJ",
        "outputId": "87612910-456c-4381-a258-cd1375d8703c",
        "colab": {
          "base_uri": "https://localhost:8080/"
        }
      },
      "outputs": [
        {
          "output_type": "stream",
          "name": "stdout",
          "text": [
            "Year 1 - Semester 1 Table HTML:\n",
            "General subjectsSubjectsECTSTYPELanguageCalculus I6BCIntroduction to Data Science6BCLinear algebra6BCProbability and Data Analysis6BCProgramming6BC\n"
          ]
        }
      ],
      "source": [
        "# c) Find the table inside PROGRAM for \"Year 1 - Semester 1\"\n",
        "\n",
        "program_element = driver.find_element(By.ID, \"program\")\n",
        "\n",
        "# table inside PROGRAM for \"Year 1 - Semester 1\"\n",
        "table_element = program_element.find_element(By.XPATH, '//h3[text()=\"Year 1 - Semester 1\"]/following-sibling::table')\n",
        "\n",
        "# content of the table\n",
        "table_html = table_element.get_attribute('textContent')\n",
        "print(\"Year 1 - Semester 1 Table HTML:\")\n",
        "print(table_html)\n",
        "\n",
        "# expand program, so it finds web anaylitics link\n",
        "program_element.click()"
      ]
    },
    {
      "cell_type": "markdown",
      "metadata": {
        "id": "y_FDSKQs25eV"
      },
      "source": [
        "# MILESTONE 2\n",
        "\n",
        "a) Obtain the link to Web Analytics course by finding the corresponding element in the source code.\n",
        "\n",
        "b) Access to this URL by clicking in the link.\n",
        "\n",
        "c) Print the text inside the _Learning activities and methodology_ section."
      ]
    },
    {
      "cell_type": "code",
      "execution_count": 7,
      "metadata": {
        "id": "MaPDvMAZaeNh",
        "outputId": "04796efd-8150-41ff-b2d6-5c8776502a53",
        "colab": {
          "base_uri": "https://localhost:8080/"
        }
      },
      "outputs": [
        {
          "output_type": "stream",
          "name": "stdout",
          "text": [
            "Web Analytics link URL:\n",
            "https://aplicaciones.uc3m.es/cpa/generaFicha?&est=350&plan=392&asig=16507&idioma=2\n"
          ]
        }
      ],
      "source": [
        "# a) like in lab1, get web analytics link\n",
        "\n",
        "web_analytics_link = driver.find_element(By.XPATH, \"//a[span[text()='Web Analytics']]\")\n",
        "print(\"Web Analytics link URL:\")\n",
        "print(web_analytics_link.get_attribute('href'))"
      ]
    },
    {
      "cell_type": "code",
      "execution_count": 8,
      "metadata": {
        "id": "a716P7-9RfAK",
        "outputId": "9bdd2ee8-64ff-4145-a445-9c4f7b9a942a",
        "colab": {
          "base_uri": "https://localhost:8080/"
        }
      },
      "outputs": [
        {
          "output_type": "stream",
          "name": "stdout",
          "text": [
            "<selenium.webdriver.remote.webelement.WebElement (session=\"04662aad90f15dd4e9f1936cf5841e03\", element=\"f.BDCDFFA1F2A690E3EAD4A2C5F28CB936.d.8D1EB977812EF81A191B8B6BC010FA98.e.43\")>\n"
          ]
        }
      ],
      "source": [
        "print(web_analytics_link)"
      ]
    },
    {
      "cell_type": "code",
      "execution_count": 9,
      "metadata": {
        "id": "3lSAhVivip3R"
      },
      "outputs": [],
      "source": [
        "# b) click on the link\n",
        "web_analytics_link.click()"
      ]
    },
    {
      "cell_type": "code",
      "execution_count": 10,
      "metadata": {
        "id": "ugBaLJ2RcvT5",
        "outputId": "98a3a50d-f77c-4b32-c27e-074d62c368bd",
        "colab": {
          "base_uri": "https://localhost:8080/"
        }
      },
      "outputs": [
        {
          "output_type": "stream",
          "name": "stdout",
          "text": [
            "Learning activities and methodology section text:\n",
            "The course will be based in the following activities:\n",
            "\n",
            "- LECTURES: theoretical lessons that will introduce the main concepts of the course. Students participation to discuss the concepts and problems introduced in the lectures will be encouraged.\n",
            "\n",
            "- LABS: practical lessons in which students will bring to practice the concepts introduced in lectures. Students will have to solve practical problems associated to web analytics.\n",
            "\n",
            "- FINAL GROUP PROJECT: Students will be assigned a project that will be developed throughout the semester in groups of 2 oe 3 people. Students should propose their own project. In exceptional cases the professors may offer a list of projects to students. The responsible professor has to approve the student proposal. The project will include the following elements: \n",
            " 1- An initial definition of the goals of the project, technology used and expected results\n",
            " 2- Use of any of the data collection studied to retrieve information from some popular online service or social network.\n",
            "3- Data analysis using up to date technological frameworks (for instance python, R, etc).\n",
            "4- Results visualization.\n",
            "\n",
            "The students will defend their project in a public exposition to the rest of students at the end of the semester. \n",
            "\n",
            "There will be a number of lab classes that will be used to supervise the evolution of the project and to allow students progressing in its development.\n",
            "\n",
            "OFFICE HOURS: The students will get access to meetings with professors every week individually or collectively in order to clarify theorical and/or practical concepts. In addition, these meetings are valid to access to a more detailed supervision of student projects.\n"
          ]
        }
      ],
      "source": [
        "# c) Print the text inside the _Learning activities and methodology_section\n",
        "\n",
        "learning_activities_section = driver.find_element(By.XPATH, '//div[contains(@class, \"panel-heading\") and text()=\"Learning activities and methodology\"]/following-sibling::div[contains(@class, \"panel-body\")]')\n",
        "\n",
        "# path to learning activities and methodology\n",
        "# /html/body/div/div[6]/div[1]\n",
        "\n",
        "# path to tarea\n",
        "# /html/body/div/div[6]/div[2]/div\n",
        "\n",
        "# Print the text inside the section\n",
        "print(\"Learning activities and methodology section text:\")\n",
        "print(learning_activities_section.text)\n",
        "\n",
        "##text inside tarea\n"
      ]
    },
    {
      "cell_type": "code",
      "execution_count": 11,
      "metadata": {
        "id": "vRdv6RzuRfAL"
      },
      "outputs": [],
      "source": [
        "driver.quit()"
      ]
    },
    {
      "cell_type": "markdown",
      "metadata": {
        "id": "CyZCe1gYam13"
      },
      "source": [
        "# MILESTONE 3\n",
        "\n",
        "Now let's build the first steps for a price monitoring website. For that, we are going to use yamovil.com to obtain car prices. Specifically, we want to find SEAT cars in Madrid and the price of each of them.\n",
        "\n",
        "Follow these steps:\n",
        "\n",
        "a) Check https://www.yamovil.es/robots.txt and see if the site can be crawled or not for our specific search. Explain.\n",
        "\n",
        "b) If yes, use this [URL](https://www.yamovil.es/coches-segunda-mano/seat-ocasion-en-madrid) which already includes the indicated search (SEAT Cars Madrid Second Hand), print the cookies banner text and accept the cookies by clicking on the accept button.\n",
        "\n",
        "c) Scrape the HTML using _Selenium_, and print the **mark**, **model**, **version** and **price** of each available car.\n",
        "\n",
        "d) Click on the last car, print the new url where you have navigated to and print the location of the car (\"este coche se encuentra en ...\").\n",
        "\n",
        "**HINT**: do not forget to quit the driver at the end of your code with `driver.quit()`"
      ]
    },
    {
      "cell_type": "code",
      "execution_count": 19,
      "metadata": {
        "id": "yMMiET8RbfCT"
      },
      "outputs": [],
      "source": [
        "# a) Yes, the site can be crawled for our specific search, because when we look at the robots.txt file, it can be seen that it allows us to access\n",
        "# \"/coches-segunda-mano/\" since it is not present in the robots.txt file"
      ]
    },
    {
      "cell_type": "code",
      "execution_count": 13,
      "metadata": {
        "id": "oCmp59j5cz7u"
      },
      "outputs": [],
      "source": [
        "# b) go to url, and cick on accept cookies\n",
        "\n",
        "from selenium import webdriver\n",
        "\n",
        "options = webdriver.ChromeOptions()\n",
        "#options.add_argument(\"--disable-search-engine-choice-screen\") # must be run on local\n",
        "options.add_argument(\"--headless\") # necessary for colab, with web analytics link wont click directly on span\n",
        "options.add_argument('--no-sandbox')\n",
        "options.add_argument('--disable-dev-shm-usage')\n",
        "driver = webdriver.Chrome(options=options)\n",
        "\n",
        "driver.get('https://www.yamovil.es/coches-segunda-mano/seat-ocasion-en-madrid')\n",
        "\n"
      ]
    },
    {
      "cell_type": "code",
      "execution_count": 14,
      "metadata": {
        "id": "vBMcrn7dtzrn"
      },
      "outputs": [],
      "source": [
        "from selenium.webdriver.common.by import By\n",
        "\n",
        "accept_all_button = driver.find_element(By.ID, \"CybotCookiebotDialogBodyLevelButtonLevelOptinAllowAll\")\n",
        "accept_all_button.click()\n",
        "\n",
        "#id=\"CybotCookiebotDialogBodyLevelButtonLevelOptinAllowAll\"\n"
      ]
    },
    {
      "cell_type": "code",
      "execution_count": 15,
      "metadata": {
        "id": "9zuzh4xztzwd"
      },
      "outputs": [],
      "source": [
        "# c) Scrape the HTML using _Selenium_,\n",
        "# and print the **mark**, **model**, **version** and **price** of each available car."
      ]
    },
    {
      "cell_type": "code",
      "execution_count": 16,
      "metadata": {
        "id": "TJLLAAUtRfAN",
        "outputId": "976495f5-e214-494c-b4ef-a966a782110e",
        "colab": {
          "base_uri": "https://localhost:8080/"
        }
      },
      "outputs": [
        {
          "output_type": "stream",
          "name": "stdout",
          "text": [
            "    Mark     Model                                            Version    Price\n",
            "0   Seat  Ibiza SC                        1.6 TDI Style 66 kW (90 CV)   8.950€\n",
            "1   Seat  Ibiza SC                        1.2 Reference 51 kW (70 CV)   7.690€\n",
            "2   Seat   Leon ST        1.5 TSI SANDS Xcellence Go L 96 kW (130 CV)  18.450€\n",
            "3   Seat     Arona                   1.0 TSI FR XM DSG 81 kW (110 CV)  19.250€\n",
            "4   Seat     Arona                   1.0 TSI FR XM DSG 81 kW (110 CV)  19.350€\n",
            "5   Seat     Arona                   1.0 TSI FR XM DSG 81 kW (110 CV)  19.250€\n",
            "6   Seat     Arona                   1.0 TSI FR XM DSG 81 kW (110 CV)  19.250€\n",
            "7   Seat     Arona                   1.0 TSI FR XM DSG 81 kW (110 CV)  19.350€\n",
            "8   Seat     Arona                       1.0 TSI FR XM 81 kW (110 CV)  18.350€\n",
            "9   Seat     Arona                       1.0 TSI FR XM 81 kW (110 CV)  18.150€\n",
            "10  Seat     Arona         1.0 TSI SANDS FR XM Edition 81 kW (110 CV)  17.950€\n",
            "11  Seat     Arona                       1.0 TSI FR XM 81 kW (110 CV)  18.150€\n",
            "12  Seat       Mii                            1.0 Style 55 kW (75 CV)   7.990€\n",
            "13  Seat      Leon            1.5 TSI SANDS FR Edition 96 kW (130 CV)  16.950€\n",
            "14  Seat      Leon      1.5 TSI SANDS FR Edition Plus 110 kW (150 CV)  16.950€\n",
            "15  Seat   Leon ST  1.5 TGI GNC SANDS FR Fast Edition Plus DSG-7 9...  18.450€\n",
            "16  Seat   Córdoba                    1.4 16V Stylance 74 kW (100 CV)   6.450€\n",
            "17  Seat      Leon         1.5 eTSI SANDS FR Go L DSG 110 kW (150 CV)  21.950€\n",
            "18  Seat   Tarraco          1.5 TSI StANDSp FR GO DSG 110 kW (150 CV)  27.450€\n",
            "19  Seat     Ibiza                   1.6 TDI DPF Style 77 kW (105 CV)   8.950€\n",
            "20  Seat     Ibiza  1.6 TDI Reference ITech 30 Aniversario 66 kW (...  10.250€\n",
            "21  Seat     Ibiza                   1.0 TSI Style Go2 81 kW (110 CV)  14.450€\n",
            "22  Seat   Tarraco  2.0 TDI SANDS Xcellence 4Drive DSG 140 kW (190...  27.450€\n",
            "23  Seat       Mii                     1.0 Cosmopolitan 55 kW (75 CV)   9.480€\n"
          ]
        }
      ],
      "source": [
        "import pandas as pd\n",
        "car_listings = driver.find_elements(By.CLASS_NAME, 'vehicle-list__item')\n",
        "\n",
        "marks = []\n",
        "models = []\n",
        "versions = []\n",
        "prices = []\n",
        "\n",
        "# get details per car\n",
        "for car in car_listings:\n",
        "\n",
        "    # mark, model, version and price for that car\n",
        "    mark = car.find_element(By.CLASS_NAME, 'make').text.strip()\n",
        "    model = car.find_element(By.CLASS_NAME, 'model').text.strip()\n",
        "    version = car.find_element(By.CLASS_NAME, 'version').text.strip()\n",
        "    price = car.find_element(By.CLASS_NAME, 'price').text.strip()\n",
        "\n",
        "    marks.append(mark)\n",
        "    models.append(model)\n",
        "    versions.append(version)\n",
        "    prices.append(price)\n",
        "\n",
        "cars_df = pd.DataFrame({\n",
        "    'Mark': marks,\n",
        "    'Model': models,\n",
        "    'Version': versions,\n",
        "    'Price': prices\n",
        "})\n",
        "\n",
        "# Show the table\n",
        "print(cars_df)"
      ]
    },
    {
      "cell_type": "code",
      "execution_count": 17,
      "metadata": {
        "id": "kUSbHI0TRfAO",
        "outputId": "df46d217-5678-4bbe-f844-c3a234ded1b8",
        "colab": {
          "base_uri": "https://localhost:8080/"
        }
      },
      "outputs": [
        {
          "output_type": "stream",
          "name": "stdout",
          "text": [
            "Car location: Este coche se encuentra en Pinto\n"
          ]
        }
      ],
      "source": [
        "# d) Click on the last car, print the new url where you have navigated to and\n",
        "# print the location of the car (\"este coche se encuentra en ...\")\n",
        "from selenium.webdriver.support.ui import WebDriverWait\n",
        "from selenium.webdriver.support import expected_conditions as EC\n",
        "\n",
        "last_car = car_listings[-1]\n",
        "last_car.click()\n",
        "\n",
        "\n",
        "location_element=driver.find_element(By.CLASS_NAME, \"vehicle-header__branch\")\n",
        "\n",
        "#get the full location text, taht includes the location\n",
        "location_text = location_element.text\n",
        "\n",
        "print(\"Car location:\", location_text)\n"
      ]
    },
    {
      "cell_type": "code",
      "execution_count": 18,
      "metadata": {
        "id": "8wLiMynxRfAO"
      },
      "outputs": [],
      "source": [
        "driver.quit()"
      ]
    },
    {
      "cell_type": "code",
      "source": [],
      "metadata": {
        "id": "Kos0c4mbckzb"
      },
      "execution_count": null,
      "outputs": []
    }
  ],
  "metadata": {
    "colab": {
      "provenance": []
    },
    "kernelspec": {
      "display_name": "Python 3",
      "name": "python3"
    },
    "language_info": {
      "codemirror_mode": {
        "name": "ipython",
        "version": 3
      },
      "file_extension": ".py",
      "mimetype": "text/x-python",
      "name": "python",
      "nbconvert_exporter": "python",
      "pygments_lexer": "ipython3",
      "version": "3.12.0"
    }
  },
  "nbformat": 4,
  "nbformat_minor": 0
}