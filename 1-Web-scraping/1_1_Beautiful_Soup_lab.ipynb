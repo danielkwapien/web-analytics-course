{
  "nbformat": 4,
  "nbformat_minor": 0,
  "metadata": {
    "colab": {
      "provenance": []
    },
    "kernelspec": {
      "display_name": "Python 3",
      "language": "python",
      "name": "python3"
    },
    "language_info": {
      "codemirror_mode": {
        "name": "ipython",
        "version": 3
      },
      "file_extension": ".py",
      "mimetype": "text/x-python",
      "name": "python",
      "nbconvert_exporter": "python",
      "pygments_lexer": "ipython3",
      "version": "3.8.8"
    }
  },
  "cells": [
    {
      "cell_type": "markdown",
      "source": [
        "## Gabriela Marín Martín - Afina Nurova - Mónica de Álvaro Mena - Daniel Kwapien\n",
        "## Group 97"
      ],
      "metadata": {
        "id": "wK1YHSJayaNj"
      }
    },
    {
      "cell_type": "markdown",
      "metadata": {
        "id": "afwfMTuQT2O0"
      },
      "source": [
        "<img src=\"https://www.uc3m.es/ss/Satellite?blobcol=urldata&blobkey=id&blobtable=MungoBlobs&blobwhere=1371573952659\">\n",
        "\n",
        "---\n",
        "\n",
        "# WEB ANALYTICS COURSE 4 - SEMESTER 2\n",
        "# BACHELOR IN DATA SCIENCE AND ENGINEERING\n",
        "\n",
        "# LAB 1.1 WEB SCRAPING WITH BEAUTIFULSOUP\n",
        "\n",
        "---\n"
      ]
    },
    {
      "cell_type": "markdown",
      "metadata": {
        "id": "0NeV05Oml2dF"
      },
      "source": [
        "# 0. Lab Preparation\n",
        "\n",
        "1.  Study and have clear the concepts explained in the theoretical class and the introductory lab.\n",
        "\n",
        "2.   Gain experience with the use of the [Requests](https://docs.python-requests.org/en/master/) and [BeautifulSoup](https://www.crummy.com/software/BeautifulSoup/bs4/doc/). The exercises of this lab will be mainly based on the utilization of functions offered by these libraries.\n",
        "\n",
        "3. It is assumed students have experience in using Python notebooks. Either a local installation (e.g., local python installation + Jupyter) or a cloud-based solution (e.g., Google Colab). *We recommend the second option*."
      ]
    },
    {
      "cell_type": "markdown",
      "metadata": {
        "id": "o7WfODWPm67o"
      },
      "source": [
        "# 1. Lab Introduction\n"
      ]
    },
    {
      "cell_type": "markdown",
      "metadata": {
        "id": "MMRIv1eekgK0"
      },
      "source": [
        "* In this lab, we will implement a web scraper using the parsing library [BeautifulSoup](https://www.crummy.com/software/BeautifulSoup/bs4/doc/). One of the tools explained in the theoretical class.\n",
        "\n",
        "* The lab will be done in groups of 2 people.\n",
        "\n",
        "* The lab defines a set of milestones the students must complete. Upon completing every milestone, students should call the professor, who will check the correctness of the solution (*If the professor is busy, do not wait for them, move to the next milestone*).\n",
        "\n",
        "* **The final mark will be computed as a function of the number of milestones successfully completed.**\n",
        "\n",
        "* **Each group should also share their lab notebook with the professor upon the finalization of the lab.**\n",
        "\n",
        "* In this lab we will use the [Requests](https://docs.python-requests.org/en/master/) and [BeautifulSoup](https://www.crummy.com/software/BeautifulSoup/bs4/doc/) libraries for the creation of a web scraper, to extract information from the web. As indicated in the *Lab Preparation* section above, it is expected that students have gained experience in the use of the libraries before starting the first session of the lab.\n",
        "\n",
        "- It is recommended to use [Google Colab](https://colab.research.google.com/) to produce the Python notebook with the solution of the lab. Of course, if any student prefers using its local programming environment (e.g., jupyter) and python installation, they are welcome to do so."
      ]
    },
    {
      "cell_type": "markdown",
      "metadata": {
        "id": "9_W-5JKjoiDb"
      },
      "source": [
        "# MILESTONE 1\n",
        "\n",
        "a) Access to the website [BACHELOR IN DATA SCIENCE AND ENGINEERING\n",
        "](https://www.uc3m.es/bachelor-degree/data-science)\n",
        "\n",
        "b) Create the _BeautifulSoup_ object.\n",
        "\n",
        "c) Find the element tag with `id=\"quality\"` and print the result.\n",
        "\n",
        "d) Find the `Places offered:` inside QUALITY and print the result.\n"
      ]
    },
    {
      "cell_type": "code",
      "metadata": {
        "id": "et_kjc37yycj"
      },
      "source": [
        "# b)\n",
        "\n",
        "# import the BeautifulSoup and request libraries\n",
        "from bs4 import BeautifulSoup\n",
        "import requests\n",
        "\n",
        "# Define the URL we want to get information from\n",
        "html_url = 'https://www.uc3m.es/bachelor-degree/data-science'\n",
        "\n",
        "# Request the URL\n",
        "page = requests.get(html_url)\n",
        "\n",
        "# Create the BeautifulSoup object\n",
        "soup = BeautifulSoup(page.content, 'html.parser')"
      ],
      "execution_count": 17,
      "outputs": []
    },
    {
      "cell_type": "code",
      "metadata": {
        "id": "RJbMg_xfy9D8",
        "colab": {
          "base_uri": "https://localhost:8080/"
        },
        "outputId": "6d7c6f3c-4eb0-4f3d-c635-5b5acb65ef92"
      },
      "source": [
        "# c)\n",
        "\n",
        "# Find the element tag specifying the 'id'\n",
        "quality = soup.find(id='quality')\n",
        "print(quality)"
      ],
      "execution_count": 18,
      "outputs": [
        {
          "output_type": "stream",
          "name": "stdout",
          "text": [
            "<div class=\"marcoParrafo\" id=\"quality\">\n",
            "<h2>Quality</h2>\n",
            "</div>\n"
          ]
        }
      ]
    },
    {
      "cell_type": "code",
      "source": [
        "# d)\n",
        "\n",
        "# Find the text 'Places offered:' inside the Quality section\n",
        "s = soup.find(string='Places offered:')\n",
        "print(s)"
      ],
      "metadata": {
        "colab": {
          "base_uri": "https://localhost:8080/"
        },
        "id": "2v4x_aDAoZ2n",
        "outputId": "b0f32a75-64c5-4905-922c-3a249346d14b"
      },
      "execution_count": 19,
      "outputs": [
        {
          "output_type": "stream",
          "name": "stdout",
          "text": [
            "Places offered:\n"
          ]
        }
      ]
    },
    {
      "cell_type": "markdown",
      "metadata": {
        "id": "MfJJ5jXioaeA"
      },
      "source": [
        "# MILESTONE 2\n",
        "\n",
        "a) Obtain the link to Web Analytics course (see inside Program) by finding the corresponding href with _BeautifulSoup_.\n",
        "\n",
        "b) Access to this URL and create a new _BeautifulSoup_ object.\n",
        "\n",
        "c) Print the text inside the Objectives section.\n"
      ]
    },
    {
      "cell_type": "code",
      "source": [
        "# a)\n",
        "\n",
        "# Find the link to the Web Analytics course\n",
        "web_analytics_url = soup.find('a', string='Web Analytics')\n",
        "\n",
        "# Print the link (access the corresponding href)\n",
        "url = web_analytics_url['href']\n",
        "print(url)"
      ],
      "metadata": {
        "id": "RZ-YiTaO3Flo",
        "colab": {
          "base_uri": "https://localhost:8080/"
        },
        "outputId": "715c5adb-687b-4a08-8375-dc95d2db223f"
      },
      "execution_count": 20,
      "outputs": [
        {
          "output_type": "stream",
          "name": "stdout",
          "text": [
            "https://aplicaciones.uc3m.es/cpa/generaFicha?&est=350&plan=392&asig=16507&idioma=2\n"
          ]
        }
      ]
    },
    {
      "cell_type": "code",
      "metadata": {
        "id": "QSp3Zrq2b_-M"
      },
      "source": [
        "# b)\n",
        "\n",
        "# Access the url\n",
        "wa_url = requests.get(url)\n",
        "\n",
        "# Create new BeautifulSoup object\n",
        "wa_soup = BeautifulSoup(wa_url.content, 'html.parser')"
      ],
      "execution_count": 21,
      "outputs": []
    },
    {
      "cell_type": "code",
      "metadata": {
        "id": "U8UG5eP4b_6V",
        "colab": {
          "base_uri": "https://localhost:8080/"
        },
        "outputId": "18f63921-8900-4e4a-d765-8f701356eef8"
      },
      "source": [
        "# c)\n",
        "\n",
        "# Go to the objectives section\n",
        "objectives_section = wa_soup.find(string='Objectives')\n",
        "\n",
        "# Find the text inside\n",
        "print(objectives_section.find_next('div').get_text())"
      ],
      "execution_count": 22,
      "outputs": [
        {
          "output_type": "stream",
          "name": "stdout",
          "text": [
            "\n",
            "1. Students should be able to demonstrate they have acquired and understood the knowledge associated to an area that starts from high school education and reach a level that although it is based on text books, it also includes aspects that include concepts coming from up-to-date knowledge in the referread area.\n",
            "2. Students should be able to apply the acquired knowledge to their job in a professional way and should incorporate the required competences that can be shown through solid arguments and the resolution of problems within their area of study.\n",
            "3. Ability to design solutions based on automatic knowledge within applications applied to specific domains such as: recommendation systems, natural language processing, the WEB or online social networks.\n",
            "4. Ability to develop web and mobile applications and crawlers to collect data using  them.\n",
            "5. Ability to develop data visualization tools to communicate the results derived from data analysis.\n",
            "6. Adequate knowledge and skills to analyze and synthesize basic problems related to engineering and data science, solve them and communicate them efficiently\n",
            "7. Ability to solve problems with initiative, decision making, creativity, and to communicate and transmit knowledge, skills and abilities, understanding the ethical, social and professional responsibility of the data processing activity. Leadership capacity, innovation and entrepreneurial spirit\n",
            "8. Ability to communicate knowledge orally and in writing to both specialised and non-specialised audiences\n",
            "9. Students should have acquired advanced knowledge and demonstrated an understanding of the theoretical and practical aspects and working\n",
            "methodology in the field of data science and engineering with a depth that reaches the forefront of knowledge\n",
            "10. Be capable of applying their knowledge and problem-solving skills, through arguments or procedures developed and sustained by themselves, in\n",
            "complex or professional and specialized work settings that require the use of creative and innovative ideas.\n",
            "11. Have the ability to collect and interpret data and information on which to base their conclusions including, where appropriate and pertinent, reflection on issues of a social, scientific or ethical nature within their field of study\n",
            "\n",
            "\n"
          ]
        }
      ]
    },
    {
      "cell_type": "markdown",
      "metadata": {
        "id": "LvWXdKNY23Yw"
      },
      "source": [
        "# MILESTONE 3\n",
        "\n",
        "Now let's build the first steps for a price monitoring website. For that, we are going to use yamovil.com to obtain car prices. Specifically, we want to find SEAT cars in Madrid and the price of each of them.\n",
        "\n",
        "Follow these steps:\n",
        "\n",
        "a) Check https://www.yamovil.es/robots.txt and see if the site can be crawled or not for our specific search. Explain.\n",
        "\n",
        "b) If yes, use this [URL](https://www.yamovil.es/coches-segunda-mano/seat-ocasion-en-madrid) which already includes the indicated search (SEAT Cars Madrid Second Hand), scrape the HTML using _BeautifulSoup_, and print the **mark**, **model**, **version** and **price** of each available car.\n",
        "\n",
        "**HINT:** The resulting list should have 30 cars (which are the ones that appear in the first page)\n"
      ]
    },
    {
      "cell_type": "markdown",
      "source": [],
      "metadata": {
        "id": "sLRU35aHFo2E"
      }
    },
    {
      "cell_type": "code",
      "metadata": {
        "id": "wZ8GKqx9DH6h",
        "colab": {
          "base_uri": "https://localhost:8080/"
        },
        "outputId": "5d95a689-bd81-4b9e-b60c-c311f4cb01d4"
      },
      "source": [
        "# a) Yes, the site can be crawled for our specific search, because when we look at the robots.txt file, it can be seen that it allows us to access\n",
        "# \"/coches-segunda-mano/\" since it is not present in the robots.txt file\n",
        "\n",
        "robots_url = \"https://www.yamovil.es/robots.txt\"\n",
        "\n",
        "response = requests.get(robots_url)\n",
        "\n",
        "print(response.text)"
      ],
      "execution_count": 23,
      "outputs": [
        {
          "output_type": "stream",
          "name": "stdout",
          "text": [
            "# www.robotstxt.org/\n",
            "# www.google.com/support/webmasters/bin/answer.py?hl=en&answer=156449\n",
            "\n",
            "User-agent: *\n",
            "Disallow: /admin/\n",
            "Disallow: /feed/\n",
            "Disallow: /goal/\n",
            "Disallow: /sobre-coches-y-concesionarios/category/\n",
            "Disallow: /sobre-coches-y-concesionarios/articulos/\n",
            "Disallow: /sobre-coches-y-concesionarios/author/\n",
            "\n"
          ]
        }
      ]
    },
    {
      "cell_type": "code",
      "metadata": {
        "id": "UvC5-azycBkh"
      },
      "source": [
        "# b)\n",
        "\n",
        "# Access the webpage\n",
        "page = requests.get('https://www.yamovil.es/coches-segunda-mano/seat-ocasion-en-madrid')\n",
        "\n",
        "# Create the BeautifulSoup object\n",
        "cars_soup = BeautifulSoup(page.content, 'html.parser')"
      ],
      "execution_count": 24,
      "outputs": []
    },
    {
      "cell_type": "code",
      "source": [
        "import pandas as pd\n",
        "car_listings = cars_soup.find_all(class_='vehicle-list__item')\n",
        "\n",
        "marks = []\n",
        "models = []\n",
        "versions = []\n",
        "prices = []\n",
        "\n",
        "# get details per car\n",
        "for car in car_listings:\n",
        "\n",
        "    # mark, model, version and price for that car\n",
        "    mark = car.find(class_='make').get_text()\n",
        "    model = car.find(class_='model').get_text()\n",
        "    version = car.find(class_='version').get_text()\n",
        "    price = car.find(class_='price').get_text()\n",
        "\n",
        "    marks.append(mark)\n",
        "    models.append(model)\n",
        "    versions.append(version)\n",
        "    prices.append(price)\n",
        "\n",
        "cars_df = pd.DataFrame({\n",
        "    'Mark': marks,\n",
        "    'Model': models,\n",
        "    'Version': versions,\n",
        "    'Price': prices\n",
        "})\n",
        "\n",
        "# Show the table\n",
        "print(cars_df)"
      ],
      "metadata": {
        "colab": {
          "base_uri": "https://localhost:8080/"
        },
        "id": "8hgPrACYxO7L",
        "outputId": "d80a24c4-32a8-451c-ac9c-a1b4051d1c92"
      },
      "execution_count": 25,
      "outputs": [
        {
          "output_type": "stream",
          "name": "stdout",
          "text": [
            "    Mark     Model                                            Version    Price\n",
            "0   Seat  Ibiza SC                        1.6 TDI Style 66 kW (90 CV)   8.950€\n",
            "1   Seat  Ibiza SC                        1.2 Reference 51 kW (70 CV)   7.690€\n",
            "2   Seat   Leon ST        1.5 TSI SANDS Xcellence Go L 96 kW (130 CV)  18.450€\n",
            "3   Seat     Arona                   1.0 TSI FR XM DSG 81 kW (110 CV)  19.250€\n",
            "4   Seat     Arona                   1.0 TSI FR XM DSG 81 kW (110 CV)  19.350€\n",
            "5   Seat     Arona                   1.0 TSI FR XM DSG 81 kW (110 CV)  19.250€\n",
            "6   Seat     Arona                   1.0 TSI FR XM DSG 81 kW (110 CV)  19.250€\n",
            "7   Seat     Arona                   1.0 TSI FR XM DSG 81 kW (110 CV)  19.350€\n",
            "8   Seat     Arona                       1.0 TSI FR XM 81 kW (110 CV)  18.350€\n",
            "9   Seat     Arona                       1.0 TSI FR XM 81 kW (110 CV)  18.150€\n",
            "10  Seat     Arona         1.0 TSI SANDS FR XM Edition 81 kW (110 CV)  17.950€\n",
            "11  Seat     Arona                       1.0 TSI FR XM 81 kW (110 CV)  18.150€\n",
            "12  Seat       Mii                            1.0 Style 55 kW (75 CV)   7.990€\n",
            "13  Seat      Leon            1.5 TSI SANDS FR Edition 96 kW (130 CV)  16.950€\n",
            "14  Seat      Leon      1.5 TSI SANDS FR Edition Plus 110 kW (150 CV)  16.950€\n",
            "15  Seat   Leon ST  1.5 TGI GNC SANDS FR Fast Edition Plus DSG-7 9...  18.450€\n",
            "16  Seat   Córdoba                    1.4 16V Stylance 74 kW (100 CV)   6.450€\n",
            "17  Seat      Leon         1.5 eTSI SANDS FR Go L DSG 110 kW (150 CV)  21.950€\n",
            "18  Seat   Tarraco          1.5 TSI StANDSp FR GO DSG 110 kW (150 CV)  27.450€\n",
            "19  Seat     Ibiza                   1.6 TDI DPF Style 77 kW (105 CV)   8.950€\n",
            "20  Seat     Ibiza  1.6 TDI Reference ITech 30 Aniversario 66 kW (...  10.250€\n",
            "21  Seat     Ibiza                   1.0 TSI Style Go2 81 kW (110 CV)  14.450€\n",
            "22  Seat   Tarraco  2.0 TDI SANDS Xcellence 4Drive DSG 140 kW (190...  27.450€\n",
            "23  Seat       Mii                     1.0 Cosmopolitan 55 kW (75 CV)   9.480€\n"
          ]
        }
      ]
    }
  ]
}