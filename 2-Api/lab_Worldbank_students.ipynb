{
  "cells": [
    {
      "cell_type": "markdown",
      "id": "kOG232dEHQkj",
      "metadata": {
        "id": "kOG232dEHQkj"
      },
      "source": [
        "<img src=\"https://www.uc3m.es/ss/Satellite?blobcol=urldata&blobkey=id&blobtable=MungoBlobs&blobwhere=1371573952659\">\n",
        "\n",
        "\n",
        "---\n",
        "\n",
        "\n",
        "# **WEB ANALYTICS COURSE 4 - SEMESTER 2**\n",
        "# **BACHELOR IN DATA SCIENCE AND ENGINEERING**\n",
        "\n",
        "# **LAB 1 APIs - WORLD BANK**\n"
      ]
    },
    {
      "cell_type": "markdown",
      "id": "02ef1484",
      "metadata": {},
      "source": [
        "## Gabriela Marin Martín, Afina Nurova, Mónica De Álvaro Mena, Daniel Kwapien | Group 97 "
      ]
    },
    {
      "cell_type": "markdown",
      "id": "Ry19wO8LIsr9",
      "metadata": {
        "id": "Ry19wO8LIsr9"
      },
      "source": [
        "# 0. LAB PREPARATION\n",
        "\n",
        "Students have to complete the following tasks before attedning the lab:\n",
        "\n",
        "1. **Read and study the API documentation to have some initial notions of the functionality of the World Bank API. Following, we share several links to the documentation related to the World Bank API:**\n",
        "- https://datahelpdesk.worldbank.org/knowledgebase/articles/898581-api-basic-call-structures\n",
        "- https://datahelpdesk.worldbank.org/knowledgebase/topics/125589-developer-information\n",
        "- https://datahelpdesk.worldbank.org/knowledgebase/articles/889392-about-the-indicators-api-documentation\n",
        "\n",
        "2. **The key element of the World Bank API are the \"indicators\". Next, we share a link that may simplify the search of indicators through a search tool. Once you have selected an indicator you can find its codification within the url bar of the browser.**\n",
        "\n",
        "- https://data.worldbank.org/indicator?tab=featured\n",
        "\n",
        "# **1. INTRODUCTION**\n",
        "\n",
        "* The goal of this lab is to gain experience testing a widely-used API such as the World Bank API that includes bunch of information about countries indicators in economy, health, education, agriculture, etc.\n",
        "\n",
        "* The lab includes 5 milestones that will drive the student through the use of several indicators.  \n",
        "\n",
        "* The lab will be done in groups of 23 students.\n",
        "\n",
        "* The lab will use two complete consecutive sessions (4 hours). The students are expected to complete the 5 milestones proposed in the lab within these 2 sessions\n",
        "\n",
        "* **The final mark will be computed as a function of the number of milestones successfully completed.**\n",
        "\n",
        "* **Each group should also upload their lab notebook in the corresponding task in Aula Global.**\n",
        "\n",
        "* Upon completing all the milestones, students should call the professor, who will check the correctness of the solution. Partial milestones checks may be allowed in some cases.\n",
        "\n",
        "# 2. **MILESTONES**\n",
        "\n",
        "In this section we describe one by one the milestones and leave a space to the students to implement the code to complete the requested task.\n",
        "\n",
        "**NOTE: Unless otherwise stated, all the milestones have to deliver information about countries. Therefore, you should not consider regions or any othre aggreated information in your analysis.**"
      ]
    },
    {
      "cell_type": "markdown",
      "id": "WGN71hXJvQoG",
      "metadata": {
        "id": "WGN71hXJvQoG"
      },
      "source": [
        "# **2.1. MILESTONE 1: POPULATION**:\n",
        "Retrieve the 2022 countries' population and show the Top 10 countries and the Bottom 10 countries within the World Bank database.\n",
        "\n"
      ]
    },
    {
      "cell_type": "markdown",
      "id": "mdUq3srWHN0Y",
      "metadata": {
        "id": "mdUq3srWHN0Y"
      },
      "source": []
    },
    {
      "cell_type": "code",
      "execution_count": 1,
      "id": "ZHh5quMhHL0I",
      "metadata": {
        "id": "ZHh5quMhHL0I"
      },
      "outputs": [
        {
          "name": "stdout",
          "output_type": "stream",
          "text": [
            "Top 10 Countries by Population in 2022:\n",
            "    CountryCode             Country    Population\n",
            "138         IND               India  1.417173e+09\n",
            "90          CHN               China  1.412175e+09\n",
            "255         USA       United States  3.332714e+08\n",
            "139         IDN           Indonesia  2.755013e+08\n",
            "198         PAK            Pakistan  2.358249e+08\n",
            "193         NGA             Nigeria  2.185412e+08\n",
            "75          BRA              Brazil  2.153135e+08\n",
            "64          BGD          Bangladesh  1.711864e+08\n",
            "210         RUS  Russian Federation  1.442369e+08\n",
            "176         MEX              Mexico  1.275041e+08\n",
            "\n",
            "Bottom 10 Countries by Population in 2022:\n",
            "    CountryCode                    Country  Population\n",
            "250         TUV                     Tuvalu     11312.0\n",
            "186         NRU                      Nauru     12668.0\n",
            "199         PLW                      Palau     18055.0\n",
            "76          VGB     British Virgin Islands     31305.0\n",
            "232         MAF   St. Martin (French part)     31791.0\n",
            "124         GIB                  Gibraltar     32649.0\n",
            "213         SMR                 San Marino     33660.0\n",
            "179         MCO                     Monaco     36469.0\n",
            "163         LIE              Liechtenstein     39327.0\n",
            "221         SXM  Sint Maarten (Dutch part)     40888.0\n"
          ]
        }
      ],
      "source": [
        "import requests\n",
        "import pandas as pd\n",
        "import pycountry\n",
        "\n",
        "def get_data(url):\n",
        "    response = requests.get(url)\n",
        "    if response.status_code == 200:\n",
        "        data = response.json()[1] \n",
        "        return data\n",
        "    else:\n",
        "        print(f\"Error fetching data: {response.status_code}\")\n",
        "        return None\n",
        "\n",
        "url = \"https://api.worldbank.org/v2/country/all/indicator/SP.POP.TOTL?date=2022&format=json&per_page=1000\"\n",
        "country_codes = [country.alpha_3 for country in pycountry.countries]\n",
        "df = pd.DataFrame(get_data(url))\n",
        "df = df[['countryiso3code', 'country', 'value']]\n",
        "df.columns = ['CountryCode', 'Country', 'Population']\n",
        "df = df[df['CountryCode'].isin(country_codes)]\n",
        "df['Country'] = df['Country'].map(lambda x: x['value'])\n",
        "\n",
        "df.dropna(subset=['Population'], inplace=True)\n",
        "top_10_countries = df.sort_values(by='Population', ascending=False).head(10)\n",
        "bottom_10_countries = df.sort_values(by='Population', ascending=True).head(10)\n",
        "\n",
        "print(\"Top 10 Countries by Population in 2022:\")\n",
        "print(top_10_countries)\n",
        "\n",
        "print(\"\\nBottom 10 Countries by Population in 2022:\")\n",
        "print(bottom_10_countries)\n"
      ]
    },
    {
      "cell_type": "markdown",
      "id": "RoZs2zuFC3sN",
      "metadata": {
        "id": "RoZs2zuFC3sN"
      },
      "source": [
        "# **2.2. MILESTONE 2: WOMEN Vs. MEN POPULATION**:\n",
        "Obtain the % of men and women for each country and compute the difference among them using the formula %women - %men. Display:\n",
        "\n",
        "1- The number of countries with more women than men.\n",
        "\n",
        "2- The number of countries with more men than women\n",
        "\n",
        "3- The 10 countries with more women compared to men (ten countries with the largest positive value of the previous metric)\n",
        "\n",
        "- The 10 countries with more men compared to women (ten countries with the largest negative value of the previous metric).\n",
        "\n",
        "**Note**: You can use the indicator the absolute number of men and women from the World Bank API and compute the % for each country and the difference, or you can use the indicator given directly the %.\n",
        "\n"
      ]
    },
    {
      "cell_type": "code",
      "execution_count": 2,
      "id": "jRsb98VeYEAE",
      "metadata": {
        "id": "jRsb98VeYEAE"
      },
      "outputs": [
        {
          "name": "stdout",
          "output_type": "stream",
          "text": [
            "Number of countries with more women than men: 134\n",
            "Number of countries with more men than women: 81\n",
            "\n",
            "Top 10 Countries with more women compared to men:\n",
            "    CountryCode                Country  MalePopulation  FemalePopulation  \\\n",
            "57          ARM                Armenia       44.959286         55.040714   \n",
            "252         UKR                Ukraine       45.919077         54.080923   \n",
            "66          BLR                Belarus       46.043914         53.956086   \n",
            "135         HKG   Hong Kong SAR, China       46.073324         53.926676   \n",
            "158         LVA                 Latvia       46.384705         53.615295   \n",
            "210         RUS     Russian Federation       46.442472         53.557528   \n",
            "261         VIR  Virgin Islands (U.S.)       46.613382         53.386618   \n",
            "166         MAC       Macao SAR, China       46.921032         53.078968   \n",
            "164         LTU              Lithuania       46.968479         53.031521   \n",
            "121         GEO                Georgia       47.003740         52.996260   \n",
            "\n",
            "     Difference  \n",
            "57    10.081429  \n",
            "252    8.161847  \n",
            "66     7.912172  \n",
            "135    7.853353  \n",
            "158    7.230591  \n",
            "210    7.115055  \n",
            "261    6.773237  \n",
            "166    6.157936  \n",
            "164    6.063042  \n",
            "121    5.992519  \n",
            "\n",
            "Top 10 Countries with more men compared to women:\n",
            "    CountryCode                    Country  MalePopulation  FemalePopulation  \\\n",
            "208         QAT                      Qatar       72.510001         27.489999   \n",
            "253         ARE       United Arab Emirates       69.353400         30.646600   \n",
            "63          BHR                    Bahrain       61.960233         38.039767   \n",
            "197         OMN                       Oman       60.867846         39.132154   \n",
            "155         KWT                     Kuwait       60.811085         39.188915   \n",
            "215         SAU               Saudi Arabia       57.621293         42.378707   \n",
            "170         MDV                   Maldives       57.526246         42.473754   \n",
            "195         MNP   Northern Mariana Islands       53.752699         46.247301   \n",
            "221         SXM  Sint Maarten (Dutch part)       53.534805         46.465195   \n",
            "71          BTN                     Bhutan       52.901445         47.098555   \n",
            "\n",
            "     Difference  \n",
            "208  -45.020003  \n",
            "253  -38.706801  \n",
            "63   -23.920466  \n",
            "197  -21.735691  \n",
            "155  -21.622171  \n",
            "215  -15.242587  \n",
            "170  -15.052493  \n",
            "195   -7.505398  \n",
            "221   -7.069610  \n",
            "71    -5.802890  \n"
          ]
        }
      ],
      "source": [
        "# Fetch male population data\n",
        "url = \"https://api.worldbank.org/v2/country/all/indicator/SP.POP.TOTL.MA.ZS?date=2022&format=json&per_page=1000\"\n",
        "\n",
        "df = pd.DataFrame(get_data(url))\n",
        "df = df[['countryiso3code', 'country', 'value']]\n",
        "df.columns = ['CountryCode', 'Country', 'MalePopulation']\n",
        "df = df[df['CountryCode'].isin(country_codes)]\n",
        "df['Country'] = df['Country'].map(lambda x: x['value'])\n",
        "df.dropna(subset=['MalePopulation'], inplace=True)\n",
        "\n",
        "\n",
        "df['FemalePopulation'] = 100 - df['MalePopulation']\n",
        "df['Difference'] = df['FemalePopulation'] - df['MalePopulation']\n",
        "\n",
        "more_women = df[df['Difference'] > 0].shape[0]\n",
        "more_men = df[df['Difference'] < 0].shape[0]\n",
        "\n",
        "top_10_women = df.sort_values(by='Difference', ascending=False).head(10)\n",
        "top_10_men = df.sort_values(by='Difference', ascending=True).head(10)\n",
        "\n",
        "print(f\"Number of countries with more women than men: {more_women}\")\n",
        "print(f\"Number of countries with more men than women: {more_men}\")\n",
        "\n",
        "print(\"\\nTop 10 Countries with more women compared to men:\")\n",
        "print(top_10_women)\n",
        "\n",
        "print(\"\\nTop 10 Countries with more men compared to women:\")\n",
        "print(top_10_men)\n"
      ]
    },
    {
      "cell_type": "markdown",
      "id": "YidJbEth0kM6",
      "metadata": {
        "id": "YidJbEth0kM6"
      },
      "source": [
        "## **2.3. MILESTONE 3: GDP PER CAPITA ACCORDING FOR INCOME LEVEL GROUPS**:\n",
        "\n",
        "Compute the average increase/decrease in percentage for the PIB per capita in US dollars in the following two periods: 2000-2022 and  2010-2022, for the following income groups: low-income economies, lower-middle-income economies, middle economies, upper-middle-income economies and high-income economies. The following, link provides information of the different country aggregations carried out by the World Bank.  \n",
        "\n",
        "https://datahelpdesk.worldbank.org/knowledgebase/articles/906519-world-bank-country-and-lending-groups\n",
        "\n",
        " You should compute the %PIB increase as follows. Given country A with a PIB Per Capita \\$20000 in 2000 and \\$30000 in 2022 the increase/decrease should be computed as follow:\n",
        "\n",
        "%PIB increase = 100*(30000-20000)/20000=50%.\n"
      ]
    },
    {
      "cell_type": "code",
      "execution_count": 3,
      "id": "OsMy7ZXaHe18",
      "metadata": {
        "id": "OsMy7ZXaHe18"
      },
      "outputs": [
        {
          "name": "stdout",
          "output_type": "stream",
          "text": [
            "                     GDP_Percentage_Increase_2000_2022  \\\n",
            "IncomeGroup                                              \n",
            "High income                                 411.115383   \n",
            "Low income                                  177.810621   \n",
            "Lower middle income                         285.925778   \n",
            "Upper middle income                         370.363417   \n",
            "\n",
            "                     GDP_Percentage_Increase_2010_2022  \n",
            "IncomeGroup                                             \n",
            "High income                                  73.381612  \n",
            "Low income                                   30.655843  \n",
            "Lower middle income                          53.724544  \n",
            "Upper middle income                          43.486052  \n"
          ]
        }
      ],
      "source": [
        "#SOLUTION MILESTONE 3\n",
        "url_2000 = \"https://api.worldbank.org/v2/country/all/indicator/NY.GDP.PCAP.CD?date=2000&format=json&per_page=1000\"\n",
        "url_2010 = \"https://api.worldbank.org/v2/country/all/indicator/NY.GDP.PCAP.CD?date=2010&format=json&per_page=1000\"\n",
        "url_2022 = \"https://api.worldbank.org/v2/country/all/indicator/NY.GDP.PCAP.CD?date=2022&format=json&per_page=1000\"\n",
        "\n",
        "gdp_2000 = pd.DataFrame(get_data(url_2000))\n",
        "gdp_2010 = pd.DataFrame(get_data(url_2010))\n",
        "gdp_2022 = pd.DataFrame(get_data(url_2022))\n",
        "\n",
        "gdp_2000 = gdp_2000[['countryiso3code', 'value']]\n",
        "gdp_2010 = gdp_2010[['countryiso3code', 'value']]\n",
        "gdp_2022 = gdp_2022[['countryiso3code', 'value']]\n",
        "\n",
        "gdp_2000.columns = ['CountryCode', 'GDP_2000']\n",
        "gdp_2010.columns = ['CountryCode', 'GDP_2010']\n",
        "gdp_2022.columns = ['CountryCode', 'GDP_2022']\n",
        "\n",
        "gdp_df = pd.merge(gdp_2000, gdp_2022, on='CountryCode')\n",
        "gdp_df = pd.merge(gdp_df, gdp_2010, on='CountryCode')\n",
        "gdp_df.dropna(inplace=True)\n",
        "\n",
        "gdp_df = gdp_df[gdp_df['CountryCode'].isin(country_codes)]\n",
        "\n",
        "# Calculate percentage increase\n",
        "gdp_df['GDP_Percentage_Increase_2000_2022'] = 100 * (gdp_df['GDP_2022'] - gdp_df['GDP_2000']) / gdp_df['GDP_2000']\n",
        "gdp_df['GDP_Percentage_Increase_2010_2022'] = 100 * (gdp_df['GDP_2022'] - gdp_df['GDP_2010']) / gdp_df['GDP_2010']\n",
        "\n",
        "# Read income group data from CLASS.csv\n",
        "income_groups_df = pd.read_csv('./CLASS.csv').dropna()\n",
        "income_groups_df = income_groups_df[['Code', 'Income group']]\n",
        "income_groups_df.columns = ['CountryCode', 'IncomeGroup']\n",
        "\n",
        "gdp_df = pd.merge(gdp_df, income_groups_df, on='CountryCode')\n",
        "\n",
        "# Filter out aggregated regions\n",
        "# gdp_df = gdp_df[gdp_df['IncomeGroup'] != 'Aggregates']\n",
        "\n",
        "# Group by income level and calculate mean percentage increase\n",
        "income_group_gdp = gdp_df.groupby('IncomeGroup').agg({'GDP_Percentage_Increase_2000_2022': 'mean', 'GDP_Percentage_Increase_2010_2022': 'mean'})\n",
        "\n",
        "\n",
        "print(income_group_gdp)"
      ]
    },
    {
      "cell_type": "markdown",
      "id": "GNzRCLvh0kI8",
      "metadata": {
        "id": "GNzRCLvh0kI8"
      },
      "source": []
    },
    {
      "cell_type": "markdown",
      "id": "HOqhV6MaQKLg",
      "metadata": {
        "id": "HOqhV6MaQKLg"
      },
      "source": [
        "# **2.4. MILESTONE 4: TOP 5 COUNTRIES INCREASE GDP PER INCOME-GROUP**\n",
        "\n",
        "For each of the income groups included in Milestone 3 and the period 2010-2022 list the Top 5 countries in terms of %GDPR per capita increase along with the value\n",
        "\n",
        "**NOTE**: Do not consider the countries for which you do not have data either in 2010 or 2022 or both of them"
      ]
    },
    {
      "cell_type": "code",
      "execution_count": 4,
      "id": "Omzo5PZ8HnbI",
      "metadata": {
        "id": "Omzo5PZ8HnbI"
      },
      "outputs": [
        {
          "name": "stdout",
          "output_type": "stream",
          "text": [
            "Income Group:  High income\n",
            "    CountryCode  GDP_Percentage_Increase_2010_2022  IncomeGroup\n",
            "53          GUY                         296.513734  High income\n",
            "88          NRU                         161.452207  High income\n",
            "96          PAN                         113.643967  High income\n",
            "18          BGR                         103.600337  High income\n",
            "102         ROU                          86.861917  High income\n",
            "Income Group:  Low income\n",
            "    CountryCode  GDP_Percentage_Increase_2010_2022 IncomeGroup\n",
            "43          ETH                         206.315061  Low income\n",
            "112         SOM                         164.937788  Low income\n",
            "30          COD                         104.598773  Low income\n",
            "104         RWA                          62.690758  Low income\n",
            "69          LBR                          51.811254  Low income\n",
            "Income Group:  Lower middle income\n",
            "    CountryCode  GDP_Percentage_Increase_2010_2022          IncomeGroup\n",
            "8           BGD                         246.006100  Lower middle income\n",
            "123         TLS                         194.895984  Lower middle income\n",
            "35          DJI                         166.988355  Lower middle income\n",
            "136         VNM                         148.158110  Lower middle income\n",
            "89          NPL                         128.824895  Lower middle income\n",
            "Income Group:  Upper middle income\n",
            "    CountryCode  GDP_Percentage_Increase_2010_2022          IncomeGroup\n",
            "27          CHN                         178.269546  Upper middle income\n",
            "81          MDA                         134.540452  Upper middle income\n",
            "6           ARM                         123.289395  Upper middle income\n",
            "76          MHL                         107.013120  Upper middle income\n",
            "129         TKM                         105.103653  Upper middle income\n"
          ]
        }
      ],
      "source": [
        "#SOLUTION MILESTONE 4\n",
        "\n",
        "gdp_df_sorted = gdp_df.sort_values(by=['IncomeGroup', 'GDP_Percentage_Increase_2010_2022'], ascending=False)\n",
        "\n",
        "#top_5_countries_per_income_group = pd.DataFrame()\n",
        "\n",
        "for income_group, group in gdp_df_sorted.groupby('IncomeGroup'):\n",
        "    top_5 = group[['CountryCode', 'GDP_Percentage_Increase_2010_2022']].head(5)\n",
        "    \n",
        "    top_5['IncomeGroup'] = income_group\n",
        "    print('Income Group: ', income_group )\n",
        "    print(top_5)"
      ]
    },
    {
      "cell_type": "markdown",
      "id": "lbWffR2QwNuh",
      "metadata": {
        "id": "lbWffR2QwNuh"
      },
      "source": [
        "# **2.5. MILESTONE 5: CO2 emission per capita**\n",
        "\n",
        "Retrieve the most recent non empty value for the amount of CO2 emission per capita (metric tons per country) for all the countries. Display the 30 countries with the highest CO2 emission per capita along with their value and the year related to that value.\n",
        "\n",
        "**NOTE**: You cannot search manually the year and use it in your query for this milestone.\n"
      ]
    },
    {
      "cell_type": "code",
      "execution_count": 5,
      "id": "Q3FUei05HuAM",
      "metadata": {
        "id": "Q3FUei05HuAM"
      },
      "outputs": [
        {
          "name": "stdout",
          "output_type": "stream",
          "text": [
            "                  country  year  co2_per_capita\n",
            "187                 Qatar  2020       31.726842\n",
            "60                Bahrain  2020       21.976908\n",
            "72      Brunei Darussalam  2020       21.705812\n",
            "139                Kuwait  2020       21.169610\n",
            "228  United Arab Emirates  2020       20.252272\n",
            "177                  Oman  2020       15.636201\n",
            "56              Australia  2020       14.776137\n",
            "193          Saudi Arabia  2020       14.266585\n",
            "79                 Canada  2020       13.591696\n",
            "230         United States  2020       13.032222\n",
            "149            Luxembourg  2020       12.456953\n",
            "134            Kazakhstan  2020       11.297743\n",
            "189    Russian Federation  2020       11.141653\n",
            "138           Korea, Rep.  2020       10.990030\n",
            "224          Turkmenistan  2020       10.184086\n",
            "221   Trinidad and Tobago  2020       10.157119\n",
            "179                 Palau  2020        8.802582\n",
            "93                Czechia  2020        8.304017\n",
            "132                 Japan  2020        8.031496\n",
            "83                  China  2020        7.756138\n",
            "198             Singapore  2020        7.686684\n",
            "170           Netherlands  2020        7.471553\n",
            "64                Belgium  2020        7.398131\n",
            "152              Malaysia  2020        7.383715\n",
            "185                Poland  2020        7.367563\n",
            "112               Germany  2020        7.255221\n",
            "126    Iran, Islamic Rep.  2020        7.063351\n",
            "128               Ireland  2020        6.768228\n",
            "176                Norway  2020        6.725080\n",
            "195                Serbia  2020        6.714517\n"
          ]
        }
      ],
      "source": [
        "#SOLUTION MILESTONE 5\n",
        "\n",
        "import requests\n",
        "import pandas as pd\n",
        "import pycountry\n",
        "\n",
        "\n",
        "country_codes = [country.alpha_3 for country in pycountry.countries]\n",
        "\n",
        "\n",
        "# World Bank API endpoint template for CO2 emissions per capita\n",
        "api_url = \"https://api.worldbank.org/v2/country/all/indicator/EN.ATM.CO2E.PC?mrnev=1&format=json&per_page=10000\"\n",
        "\n",
        "# Function to fetch CO2 emissions data per capita for all countries\n",
        "def fetch_co2_data():\n",
        "    response = requests.get(api_url)\n",
        "    data = response.json()\n",
        "    return data[1]  # The second item in the response is the actual data\n",
        "\n",
        "# Fetch CO2 emissions data\n",
        "co2_data = fetch_co2_data()\n",
        "\n",
        "# Process the data to extract the most recent non-empty value per country\n",
        "country_emissions = []\n",
        "\n",
        "for entry in co2_data:\n",
        "    country = entry['country']['value']\n",
        "    year = entry['date']\n",
        "    value = entry['value']\n",
        "    \n",
        "    # Store the first non-empty value we find per country (most recent comes first in API response)\n",
        "    if value is not None:\n",
        "        country_emissions.append({\n",
        "            'country': country,\n",
        "            'year': year,\n",
        "            'co2_per_capita': value,\n",
        "            'code': entry['countryiso3code']\n",
        "        })\n",
        "\n",
        "\n",
        "# Convert the data to a pandas DataFrame\n",
        "df = pd.DataFrame(country_emissions)\n",
        "df= df[df['code'].isin(country_codes)]\n",
        "\n",
        "# Sort the DataFrame by CO2 emissions per capita in descending order\n",
        "df_sorted = df.sort_values(by='co2_per_capita', ascending=False)\n",
        "\n",
        "# Display the top 30 countries with the highest CO2 emissions per capita\n",
        "top_30_countries = df_sorted.head(30)\n",
        "print(top_30_countries[['country', 'year', 'co2_per_capita']])"
      ]
    },
    {
      "cell_type": "code",
      "execution_count": null,
      "id": "37e0566c",
      "metadata": {},
      "outputs": [],
      "source": []
    }
  ],
  "metadata": {
    "colab": {
      "provenance": []
    },
    "kernelspec": {
      "display_name": "venv",
      "language": "python",
      "name": "python3"
    },
    "language_info": {
      "codemirror_mode": {
        "name": "ipython",
        "version": 3
      },
      "file_extension": ".py",
      "mimetype": "text/x-python",
      "name": "python",
      "nbconvert_exporter": "python",
      "pygments_lexer": "ipython3",
      "version": "3.11.3"
    }
  },
  "nbformat": 4,
  "nbformat_minor": 5
}
