{
 "cells": [
  {
   "cell_type": "code",
   "id": "add2244c",
   "metadata": {
    "ExecuteTime": {
     "end_time": "2024-10-13T20:26:06.135173Z",
     "start_time": "2024-10-13T20:26:06.101694Z"
    }
   },
   "source": [
    "import requests\n",
    "import os\n",
    "import json\n",
    "\n",
    "#Function to connect to the server. It returns:\n",
    "#   - response => A JSON containing the answer\n",
    "#   - status code: \n",
    "#       -200: If everything was OK.\n",
    "#       -400: If the server detectes an error in the query.\n",
    "\n",
    "def connect_to_server(url):\n",
    "    response = requests.request(\"GET\", url)\n",
    "    print(\"STATUS CODE:\"+str(response.status_code))\n",
    "    return response.status_code, response\n",
    "\n",
    "\n",
    "#Below you have all the endpoints options. \n",
    "#You just need to uncomment the one you want to use.\n",
    "\n",
    "endpoint=\"test_connectivity_M1\"\n",
    "endpoint=\"count_countries_M2\"\n",
    "endpoint = \"count_countries_M3?countries=AU,BR,CA\"\n",
    "endpoint=\"age_groups_M4\"\n",
    "endpoint=\"users_M5?countries=FR,GB,IE,IR,NO,NL,NZ,TR,US&gender=female&month=01,02,03,04,05&age=30,31,32,33,34,35,36,37,38,39,40,41,42,43,44,45\"\n",
    "endpoint=\"users_control_error_M6?countries=FR,GB,IE,IR,NO,NL,NZ,TR,US,IT,SW,MX&gender=women,men&month=01,05,06,12,15,23&age=30,31,32,33,34,35,36,37,38,39,40,12,15,123&city=Madrid\"\n",
    "endpoint=\"users_control_error_M6?countries=FR,GB,IE,IR,NO,NL,NZ,TR,US&gender=female&month=01,02,03,04,05&age=30,31,32,33,34,35,36,37,38,39,40,41,42,43,44,45\"\n",
    "endpoint=\"users_control_error_M6?countries=FR,GB,IE,IR,NO,NL,NZ,TR,US&gender=male,female&month=01,05,06,12&age=30,31,32,33,34,35\"\n",
    "endpoint=\"access_token_M7?access_token=$P$BZlw7PF1j.XDezr9sUj6moCjBlSx/e0&countries=FR,GB,IE,IR,NO,NL,NZ,TR,US&user_ID=9123&gender=male,female&month=01,05,06,12&age=30,31,32,33,34,35\"\n",
    "\n",
    "\n",
    "#This is a preliminary code that prints the received output in the screen.\n",
    "#You need to substitute this code in each milestone to print the requested\n",
    "#output per screen.\n",
    "url = \"http://localhost:8080/{}\".format(endpoint) \n",
    "print(url)\n",
    "status_code, response= connect_to_server(url)\n",
    "json_output=response.json()\n",
    "print(response.text)\n",
    "\n",
    "\n"
   ],
   "outputs": [
    {
     "name": "stdout",
     "output_type": "stream",
     "text": [
      "http://localhost:8080/access_token_M7?access_token=$P$BZlw7PF1j.XDezr9sUj6moCjBlSx/e0&countries=FR,GB,IE,IR,NO,NL,NZ,TR,US&user_ID=9123&gender=male,female&month=01,05,06,12&age=30,31,32,33,34,35\n",
      "STATUS CODE:200\n",
      "{\"results\": [\"NUM. USERS:90\", \"User 1:\", \"-Name: ÙØ§Ø·ÙÙ ÙØ§Ø³ÙÛ\", \"-Gender: female\", \"-Age: 31\", \"-Country: Iran\", \"-Postcode: 86840\", \"-Email: ftmh.qsmy@example.com\", \"User 2:\", \"-Name: Jennifer Obrien\", \"-Gender: female\", \"-Age: 30\", \"-Country: Ireland\", \"-Postcode: 10881\", \"-Email: jennifer.obrien@example.com\", \"User 3:\", \"-Name: Kubra Lindelauf\", \"-Gender: female\", \"-Age: 33\", \"-Country: Netherlands\", \"-Postcode: 70372\", \"-Email: kubra.lindelauf@example.com\", \"User 4:\", \"-Name: Afet Koyuncu\", \"-Gender: female\", \"-Age: 30\", \"-Country: Turkey\", \"-Postcode: 90201\", \"-Email: afet.koyuncu@example.com\", \"User 5:\", \"-Name: Erik Morris\", \"-Gender: male\", \"-Age: 34\", \"-Country: Ireland\", \"-Postcode: 47825\", \"-Email: erik.morris@example.com\", \"User 6:\", \"-Name: LÃ©andre Roche\", \"-Gender: male\", \"-Age: 34\", \"-Country: France\", \"-Postcode: 51395\", \"-Email: leandre.roche@example.com\", \"User 7:\", \"-Name: Karl Blom\", \"-Gender: male\", \"-Age: 34\", \"-Country: Norway\", \"-Postcode: 6003\", \"-Email: karl.blom@example.com\", \"User 8:\", \"-Name: Emma Wade\", \"-Gender: female\", \"-Age: 34\", \"-Country: United Kingdom\", \"-Postcode: K86 9WR\", \"-Email: emma.wade@example.com\", \"User 9:\", \"-Name: Kathleen Murray\", \"-Gender: female\", \"-Age: 31\", \"-Country: Ireland\", \"-Postcode: 31526\", \"-Email: kathleen.murray@example.com\", \"User 10:\", \"-Name: Jessica Davies\", \"-Gender: female\", \"-Age: 30\", \"-Country: New Zealand\", \"-Postcode: 83411\", \"-Email: jessica.davies@example.com\", \"User 11:\", \"-Name: Lya Giraud\", \"-Gender: female\", \"-Age: 32\", \"-Country: France\", \"-Postcode: 47312\", \"-Email: lya.giraud@example.com\", \"User 12:\", \"-Name: Ariel Nesje\", \"-Gender: female\", \"-Age: 30\", \"-Country: Norway\", \"-Postcode: 2630\", \"-Email: ariel.nesje@example.com\", \"User 13:\", \"-Name: Roger Hudson\", \"-Gender: male\", \"-Age: 30\", \"-Country: Ireland\", \"-Postcode: 98030\", \"-Email: roger.hudson@example.com\", \"User 14:\", \"-Name: Leslie Lawrence\", \"-Gender: male\", \"-Age: 31\", \"-Country: Ireland\", \"-Postcode: 30280\", \"-Email: leslie.lawrence@example.com\", \"User 15:\", \"-Name: Michelle Gonzalez\", \"-Gender: female\", \"-Age: 32\", \"-Country: United States\", \"-Postcode: 57718\", \"-Email: michelle.gonzalez@example.com\", \"User 16:\", \"-Name: Logan Hicks\", \"-Gender: male\", \"-Age: 35\", \"-Country: United Kingdom\", \"-Postcode: VQ30 8HF\", \"-Email: logan.hicks@example.com\", \"User 17:\", \"-Name: Logan Anderson\", \"-Gender: male\", \"-Age: 32\", \"-Country: New Zealand\", \"-Postcode: 51147\", \"-Email: logan.anderson@example.com\", \"User 18:\", \"-Name: Vildan Sezek\", \"-Gender: female\", \"-Age: 32\", \"-Country: Turkey\", \"-Postcode: 84718\", \"-Email: vildan.sezek@example.com\", \"User 19:\", \"-Name: Tim Lilleberg\", \"-Gender: male\", \"-Age: 32\", \"-Country: Norway\", \"-Postcode: 0139\", \"-Email: tim.lilleberg@example.com\", \"User 20:\", \"-Name: Ø¹Ø±Ø´ÙØ§ Ø³ÙÙÙÙ Ø±Ø§Ø¯\", \"-Gender: male\", \"-Age: 35\", \"-Country: Iran\", \"-Postcode: 60854\", \"-Email: aarshy.shylyrd@example.com\", \"User 21:\", \"-Name: Archie Wang\", \"-Gender: male\", \"-Age: 30\", \"-Country: New Zealand\", \"-Postcode: 15924\", \"-Email: archie.wang@example.com\", \"User 22:\", \"-Name: Alfred Dean\", \"-Gender: male\", \"-Age: 33\", \"-Country: United States\", \"-Postcode: 66995\", \"-Email: alfred.dean@example.com\", \"User 23:\", \"-Name: Sigmund Syed\", \"-Gender: male\", \"-Age: 35\", \"-Country: Norway\", \"-Postcode: 4265\", \"-Email: sigmund.syed@example.com\", \"User 24:\", \"-Name: Lucie Lucas\", \"-Gender: female\", \"-Age: 32\", \"-Country: France\", \"-Postcode: 54198\", \"-Email: lucie.lucas@example.com\", \"User 25:\", \"-Name: Buse BeÅok\", \"-Gender: female\", \"-Age: 30\", \"-Country: Turkey\", \"-Postcode: 80246\", \"-Email: buse.besok@example.com\", \"User 26:\", \"-Name: Ãetin KaplangÄ±\", \"-Gender: male\", \"-Age: 32\", \"-Country: Turkey\", \"-Postcode: 26350\", \"-Email: cetin.kaplangi@example.com\", \"User 27:\", \"-Name: Joe Wells\", \"-Gender: male\", \"-Age: 32\", \"-Country: United States\", \"-Postcode: 19968\", \"-Email: joe.wells@example.com\", \"User 28:\", \"-Name: George Anderson\", \"-Gender: male\", \"-Age: 32\", \"-Country: New Zealand\", \"-Postcode: 51733\", \"-Email: george.anderson@example.com\", \"User 29:\", \"-Name: Nicole Davis\", \"-Gender: female\", \"-Age: 35\", \"-Country: Ireland\", \"-Postcode: 93682\", \"-Email: nicole.davis@example.com\", \"User 30:\", \"-Name: BegÃ¼m KaplangÄ±\", \"-Gender: female\", \"-Age: 32\", \"-Country: Turkey\", \"-Postcode: 76612\", \"-Email: begum.kaplangi@example.com\", \"User 31:\", \"-Name: Alva Ali\", \"-Gender: female\", \"-Age: 34\", \"-Country: Norway\", \"-Postcode: 9519\", \"-Email: alva.ali@example.com\", \"User 32:\", \"-Name: Angelina Dupont\", \"-Gender: female\", \"-Age: 34\", \"-Country: France\", \"-Postcode: 51385\", \"-Email: angelina.dupont@example.com\", \"User 33:\", \"-Name: Kristin Aaslund\", \"-Gender: female\", \"-Age: 34\", \"-Country: Norway\", \"-Postcode: 3055\", \"-Email: kristin.aaslund@example.com\", \"User 34:\", \"-Name: Kaya TÃ¼zÃ¼n\", \"-Gender: male\", \"-Age: 32\", \"-Country: Turkey\", \"-Postcode: 78587\", \"-Email: kaya.tuzun@example.com\", \"User 35:\", \"-Name: Jo FÃ¸rre\", \"-Gender: male\", \"-Age: 31\", \"-Country: Norway\", \"-Postcode: 3560\", \"-Email: jo.forre@example.com\", \"User 36:\", \"-Name: Anna Fernandez\", \"-Gender: female\", \"-Age: 35\", \"-Country: United Kingdom\", \"-Postcode: IX06 1PE\", \"-Email: anna.fernandez@example.com\", \"User 37:\", \"-Name: Barb Pearson\", \"-Gender: female\", \"-Age: 34\", \"-Country: Ireland\", \"-Postcode: 72897\", \"-Email: barb.pearson@example.com\", \"User 38:\", \"-Name: Kenneth Lee\", \"-Gender: male\", \"-Age: 30\", \"-Country: United States\", \"-Postcode: 27370\", \"-Email: kenneth.lee@example.com\", \"User 39:\", \"-Name: Ø±ÙØ§ Ú©Ø§ÙØ±ÙØ§\", \"-Gender: female\", \"-Age: 34\", \"-Country: Iran\", \"-Postcode: 52226\", \"-Email: rh.khmrw@example.com\", \"User 40:\", \"-Name: Jorge Elliott\", \"-Gender: male\", \"-Age: 32\", \"-Country: Ireland\", \"-Postcode: 93191\", \"-Email: jorge.elliott@example.com\", \"User 41:\", \"-Name: Cuma Vaassen\", \"-Gender: male\", \"-Age: 35\", \"-Country: Netherlands\", \"-Postcode: 24224\", \"-Email: cuma.vaassen@example.com\", \"User 42:\", \"-Name: Suze Roerdink\", \"-Gender: female\", \"-Age: 30\", \"-Country: Netherlands\", \"-Postcode: 44865\", \"-Email: suze.roerdink@example.com\", \"User 43:\", \"-Name: Aiden Omdal\", \"-Gender: male\", \"-Age: 32\", \"-Country: Norway\", \"-Postcode: 5458\", \"-Email: aiden.omdal@example.com\", \"User 44:\", \"-Name: Damian Stava\", \"-Gender: male\", \"-Age: 34\", \"-Country: Norway\", \"-Postcode: 0487\", \"-Email: damian.stava@example.com\", \"User 45:\", \"-Name: Anna Roberts\", \"-Gender: female\", \"-Age: 35\", \"-Country: New Zealand\", \"-Postcode: 36940\", \"-Email: anna.roberts@example.com\", \"User 46:\", \"-Name: Elisabeth Vanvik\", \"-Gender: female\", \"-Age: 31\", \"-Country: Norway\", \"-Postcode: 9162\", \"-Email: elisabeth.vanvik@example.com\", \"User 47:\", \"-Name: Age Leentvaar\", \"-Gender: male\", \"-Age: 34\", \"-Country: Netherlands\", \"-Postcode: 41890\", \"-Email: age.leentvaar@example.com\", \"User 48:\", \"-Name: Bastien Denis\", \"-Gender: male\", \"-Age: 35\", \"-Country: France\", \"-Postcode: 25261\", \"-Email: bastien.denis@example.com\", \"User 49:\", \"-Name: Matteus Garnes\", \"-Gender: male\", \"-Age: 31\", \"-Country: Norway\", \"-Postcode: 8700\", \"-Email: matteus.garnes@example.com\", \"User 50:\", \"-Name: AfÅar Korol\", \"-Gender: female\", \"-Age: 30\", \"-Country: Turkey\", \"-Postcode: 81802\", \"-Email: afsar.korol@example.com\", \"User 51:\", \"-Name: Yasemin ArslanoÄlu\", \"-Gender: female\", \"-Age: 35\", \"-Country: Turkey\", \"-Postcode: 43644\", \"-Email: yasemin.arslanoglu@example.com\", \"User 52:\", \"-Name: Benjamin Evans\", \"-Gender: male\", \"-Age: 35\", \"-Country: New Zealand\", \"-Postcode: 37957\", \"-Email: benjamin.evans@example.com\", \"User 53:\", \"-Name: Christina Terry\", \"-Gender: female\", \"-Age: 35\", \"-Country: United Kingdom\", \"-Postcode: BN08 7LH\", \"-Email: christina.terry@example.com\", \"User 54:\", \"-Name: Gonca Erbulak\", \"-Gender: female\", \"-Age: 30\", \"-Country: Turkey\", \"-Postcode: 11754\", \"-Email: gonca.erbulak@example.com\", \"User 55:\", \"-Name: Justin Nelson\", \"-Gender: male\", \"-Age: 35\", \"-Country: Ireland\", \"-Postcode: 51648\", \"-Email: justin.nelson@example.com\", \"User 56:\", \"-Name: Ø¢Ø±Ø§Ø¯ Ú©Ø±ÛÙÛ\", \"-Gender: male\", \"-Age: 31\", \"-Country: Iran\", \"-Postcode: 60952\", \"-Email: ard.khrymy@example.com\", \"User 57:\", \"-Name: Ali SinanoÄlu\", \"-Gender: male\", \"-Age: 31\", \"-Country: Turkey\", \"-Postcode: 51407\", \"-Email: ali.sinanoglu@example.com\", \"User 58:\", \"-Name: Suzette Hoveling\", \"-Gender: female\", \"-Age: 33\", \"-Country: Netherlands\", \"-Postcode: 48582\", \"-Email: suzette.hoveling@example.com\", \"User 59:\", \"-Name: Alexander Weaver\", \"-Gender: male\", \"-Age: 30\", \"-Country: Ireland\", \"-Postcode: 69129\", \"-Email: alexander.weaver@example.com\", \"User 60:\", \"-Name: Samuel Pierce\", \"-Gender: male\", \"-Age: 35\", \"-Country: United States\", \"-Postcode: 72684\", \"-Email: samuel.pierce@example.com\", \"User 61:\", \"-Name: Ali AkaydÄ±n\", \"-Gender: male\", \"-Age: 35\", \"-Country: Turkey\", \"-Postcode: 46490\", \"-Email: ali.akaydin@example.com\", \"User 62:\", \"-Name: ØªØ§Ø±Ø§ Ø±Ø¶Ø§ÛÛØ§Ù\", \"-Gender: female\", \"-Age: 31\", \"-Country: Iran\", \"-Postcode: 25005\", \"-Email: tr.rdyyn@example.com\", \"User 63:\", \"-Name: Miguel Martinez\", \"-Gender: male\", \"-Age: 32\", \"-Country: United Kingdom\", \"-Postcode: D89 2UF\", \"-Email: miguel.martinez@example.com\", \"User 64:\", \"-Name: Chloe Roberts\", \"-Gender: female\", \"-Age: 31\", \"-Country: New Zealand\", \"-Postcode: 34961\", \"-Email: chloe.roberts@example.com\", \"User 65:\", \"-Name: Kiona Van Rooijen\", \"-Gender: female\", \"-Age: 35\", \"-Country: Netherlands\", \"-Postcode: 63524\", \"-Email: kiona.vanrooijen@example.com\", \"User 66:\", \"-Name: Yousif Poort\", \"-Gender: male\", \"-Age: 33\", \"-Country: Netherlands\", \"-Postcode: 41895\", \"-Email: yousif.poort@example.com\", \"User 67:\", \"-Name: Ãzkan KurutluoÄlu\", \"-Gender: male\", \"-Age: 35\", \"-Country: Turkey\", \"-Postcode: 27707\", \"-Email: ozkan.kurutluoglu@example.com\", \"User 68:\", \"-Name: Rosalyn Brooks\", \"-Gender: female\", \"-Age: 33\", \"-Country: Ireland\", \"-Postcode: 35917\", \"-Email: rosalyn.brooks@example.com\", \"User 69:\", \"-Name: Susie Burton\", \"-Gender: female\", \"-Age: 30\", \"-Country: Ireland\", \"-Postcode: 51296\", \"-Email: susie.burton@example.com\", \"User 70:\", \"-Name: ÙÛÙØ§Ø¯ ÙØ§ÙÙØ§Ø±Ø§Ù\", \"-Gender: male\", \"-Age: 31\", \"-Country: Iran\", \"-Postcode: 44436\", \"-Email: myld.kmyrn@example.com\", \"User 71:\", \"-Name: Ege Ãrge\", \"-Gender: female\", \"-Age: 35\", \"-Country: Turkey\", \"-Postcode: 70692\", \"-Email: ege.orge@example.com\", \"User 72:\", \"-Name: Alfred Miller\", \"-Gender: male\", \"-Age: 33\", \"-Country: Ireland\", \"-Postcode: 79429\", \"-Email: alfred.miller@example.com\", \"User 73:\", \"-Name: Darryl Harris\", \"-Gender: male\", \"-Age: 30\", \"-Country: United States\", \"-Postcode: 94308\", \"-Email: darryl.harris@example.com\", \"User 74:\", \"-Name: Barry Burton\", \"-Gender: male\", \"-Age: 35\", \"-Country: Ireland\", \"-Postcode: 18694\", \"-Email: barry.burton@example.com\", \"User 75:\", \"-Name: Craig Curtis\", \"-Gender: male\", \"-Age: 35\", \"-Country: Ireland\", \"-Postcode: 46614\", \"-Email: craig.curtis@example.com\", \"User 76:\", \"-Name: Seyma Binkhorst\", \"-Gender: female\", \"-Age: 32\", \"-Country: Netherlands\", \"-Postcode: 69421\", \"-Email: seyma.binkhorst@example.com\", \"User 77:\", \"-Name: Nikolas Nystuen\", \"-Gender: male\", \"-Age: 33\", \"-Country: Norway\", \"-Postcode: 5827\", \"-Email: nikolas.nystuen@example.com\", \"User 78:\", \"-Name: InÃ¨s Lecomte\", \"-Gender: female\", \"-Age: 32\", \"-Country: France\", \"-Postcode: 94897\", \"-Email: ines.lecomte@example.com\", \"User 79:\", \"-Name: Calvin Roberts\", \"-Gender: male\", \"-Age: 32\", \"-Country: United Kingdom\", \"-Postcode: L34 4JY\", \"-Email: calvin.roberts@example.com\", \"User 80:\", \"-Name: Barbara Butler\", \"-Gender: female\", \"-Age: 33\", \"-Country: United Kingdom\", \"-Postcode: K61 9HN\", \"-Email: barbara.butler@example.com\", \"User 81:\", \"-Name: Ãzsu PoÃ§an\", \"-Gender: female\", \"-Age: 32\", \"-Country: Turkey\", \"-Postcode: 14252\", \"-Email: ozsu.pocan@example.com\", \"User 82:\", \"-Name: Julie Dubois\", \"-Gender: female\", \"-Age: 33\", \"-Country: France\", \"-Postcode: 60524\", \"-Email: julie.dubois@example.com\", \"User 83:\", \"-Name: Haris Hupkens\", \"-Gender: male\", \"-Age: 35\", \"-Country: Netherlands\", \"-Postcode: 44790\", \"-Email: haris.hupkens@example.com\", \"User 84:\", \"-Name: Dorcas Stehouwer\", \"-Gender: female\", \"-Age: 31\", \"-Country: Netherlands\", \"-Postcode: 25756\", \"-Email: dorcas.stehouwer@example.com\", \"User 85:\", \"-Name: Alvin Fletcher\", \"-Gender: male\", \"-Age: 34\", \"-Country: United States\", \"-Postcode: 32935\", \"-Email: alvin.fletcher@example.com\", \"User 86:\", \"-Name: Edward Davies\", \"-Gender: male\", \"-Age: 34\", \"-Country: New Zealand\", \"-Postcode: 46955\", \"-Email: edward.davies@example.com\", \"User 87:\", \"-Name: Jackson Gregory\", \"-Gender: male\", \"-Age: 30\", \"-Country: United Kingdom\", \"-Postcode: EQ5I 8HT\", \"-Email: jackson.gregory@example.com\", \"User 88:\", \"-Name: Lisa Fox\", \"-Gender: female\", \"-Age: 35\", \"-Country: Ireland\", \"-Postcode: 88133\", \"-Email: lisa.fox@example.com\", \"User 89:\", \"-Name: Arman Zomer\", \"-Gender: male\", \"-Age: 30\", \"-Country: Netherlands\", \"-Postcode: 72598\", \"-Email: arman.zomer@example.com\", \"User 90:\", \"-Name: Silja Tuitert\", \"-Gender: female\", \"-Age: 31\", \"-Country: Netherlands\", \"-Postcode: 55858\", \"-Email: silja.tuitert@example.com\"]}\n"
     ]
    }
   ],
   "execution_count": 49
  },
  {
   "cell_type": "code",
   "execution_count": null,
   "id": "7ca9a58c-0223-43e3-acbb-ddb9417309b2",
   "metadata": {},
   "outputs": [],
   "source": []
  },
  {
   "cell_type": "code",
   "execution_count": null,
   "id": "54987423-70c8-4a94-8fac-55c4e915fb21",
   "metadata": {},
   "outputs": [],
   "source": []
  },
  {
   "cell_type": "code",
   "execution_count": null,
   "id": "744d253f-a813-4423-a1da-5d19ebdd9383",
   "metadata": {},
   "outputs": [],
   "source": []
  }
 ],
 "metadata": {
  "kernelspec": {
   "display_name": "venv",
   "language": "python",
   "name": "python3"
  },
  "language_info": {
   "codemirror_mode": {
    "name": "ipython",
    "version": 3
   },
   "file_extension": ".py",
   "mimetype": "text/x-python",
   "name": "python",
   "nbconvert_exporter": "python",
   "pygments_lexer": "ipython3",
   "version": "3.11.3"
  }
 },
 "nbformat": 4,
 "nbformat_minor": 5
}
